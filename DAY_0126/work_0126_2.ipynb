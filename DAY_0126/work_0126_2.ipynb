{
 "cells": [
  {
   "cell_type": "markdown",
   "metadata": {},
   "source": [
    "#### 공공데이터 과제 #3 <hr>"
   ]
  },
  {
   "cell_type": "markdown",
   "metadata": {},
   "source": [
    "- 문제 2 : 마방진"
   ]
  },
  {
   "cell_type": "markdown",
   "metadata": {},
   "source": [
    "(2 - 1) 1의 초기 위치가 맨 윗줄 가운데인 경우"
   ]
  },
  {
   "cell_type": "code",
   "execution_count": 39,
   "metadata": {},
   "outputs": [
    {
     "name": "stdout",
     "output_type": "stream",
     "text": [
      "30 39 48  1 10 19 28 \n",
      "38 47  7  9 18 27 29 \n",
      "46  6  8 17 26 35 37 \n",
      " 5 14 16 25 34 36 45 \n",
      "13 15 24 33 42 44  4 \n",
      "21 23 32 41 43  3 12 \n",
      "22 31 40 49  2 11 20 \n"
     ]
    }
   ],
   "source": [
    "# 마방진 크기 n값 설정\n",
    "n = int(input('홀수차 배열의 크기를 입력하세요 : '))\n",
    "\n",
    "# 0으로만 구성된 size n by n인 2차원 리스트 생성\n",
    "square = [[0 for col in range(n)] for row in range(n)]\n",
    "\n",
    "# 1의 처음 시작 위치 설정\n",
    "square[0][n//2] = 1\n",
    "x = 0\n",
    "y = n // 2\n",
    "\n",
    "for num in range(2, n**2 + 1):\n",
    "    if x - 1 >= 0 and y + 1 <= n - 1:\n",
    "        if square[x - 1][y + 1] == 0:\n",
    "            square[x - 1][y + 1] = num\n",
    "            x = x - 1\n",
    "            y = y + 1\n",
    "        else:\n",
    "            square[x + 1][y] = num\n",
    "            x = x + 1\n",
    "            y = y\n",
    "    elif x - 1 == -1 and y + 1 <= n - 1:       \n",
    "        square[(x - 1) % n][y + 1] = num\n",
    "        x = (x - 1) % n\n",
    "        y = y + 1\n",
    "       \n",
    "    elif x - 1 >= 0 and y + 1 == n:\n",
    "        square[x - 1][(y + 1) % n] = num\n",
    "        x = x - 1\n",
    "        y = (y + 1) % n\n",
    "    \n",
    "    elif x - 1 == -1 and y + 1 == n:\n",
    "        square[x + 1][y] = num\n",
    "        x = x + 1\n",
    "        y = y\n",
    "    \n",
    "for i in range(n):\n",
    "    for j in range(n):\n",
    "        print(f'{square[i][j]:2}', end = ' ')\n",
    "    print()\n"
   ]
  },
  {
   "cell_type": "markdown",
   "metadata": {},
   "source": [
    "(2 - 2) 1의 초기 위치가 맨 아랫줄 가운데인 경우"
   ]
  },
  {
   "cell_type": "code",
   "execution_count": 40,
   "metadata": {},
   "outputs": [
    {
     "name": "stdout",
     "output_type": "stream",
     "text": [
      "22 31 40 49  2 11 20 \n",
      "21 23 32 41 43  3 12 \n",
      "13 15 24 33 42 44  4 \n",
      " 5 14 16 25 34 36 45 \n",
      "46  6  8 17 26 35 37 \n",
      "38 47  7  9 18 27 29 \n",
      "30 39 48  1 10 19 28 \n"
     ]
    }
   ],
   "source": [
    "# 마방진 크기 n값 설정\n",
    "n = int(input('홀수차 배열의 크기를 입력하세요 : '))\n",
    "\n",
    "# 0으로만 구성된 size n by n인 2차원 리스트 생성\n",
    "square = [[0 for col in range(n)] for row in range(n)]\n",
    "\n",
    "# 1의 처음 시작 위치 설정\n",
    "square[n - 1][n//2] = 1\n",
    "x = n - 1\n",
    "y = n // 2\n",
    "\n",
    "for num in range(2, n**2 + 1):\n",
    "    if x + 1 <= n - 1 and y + 1 <= n - 1:\n",
    "        if square[x + 1][y + 1] == 0:\n",
    "            square[x + 1][y + 1] = num\n",
    "            x = x + 1\n",
    "            y = y + 1\n",
    "        else:\n",
    "            square[x - 1][y] = num\n",
    "            x = x - 1\n",
    "            y = y\n",
    "    elif x + 1 == n and y + 1 <= n - 1:       \n",
    "        square[(x + 1) % n][y + 1] = num\n",
    "        x = (x + 1) % n\n",
    "        y = y + 1\n",
    "       \n",
    "    elif x + 1 <= n - 1 and y + 1 == n:\n",
    "        square[x + 1][(y + 1) % n] = num\n",
    "        x = x + 1\n",
    "        y = (y + 1) % n\n",
    "    \n",
    "    elif x + 1 == n and y + 1 == n:\n",
    "        square[x - 1][y] = num\n",
    "        x = x - 1\n",
    "        y = y\n",
    "    \n",
    "for i in range(n):\n",
    "    for j in range(n):\n",
    "        print(f'{square[i][j]:2}', end = ' ')\n",
    "    print()"
   ]
  }
 ],
 "metadata": {
  "kernelspec": {
   "display_name": "TEST",
   "language": "python",
   "name": "python3"
  },
  "language_info": {
   "codemirror_mode": {
    "name": "ipython",
    "version": 3
   },
   "file_extension": ".py",
   "mimetype": "text/x-python",
   "name": "python",
   "nbconvert_exporter": "python",
   "pygments_lexer": "ipython3",
   "version": "3.9.18"
  }
 },
 "nbformat": 4,
 "nbformat_minor": 2
}
