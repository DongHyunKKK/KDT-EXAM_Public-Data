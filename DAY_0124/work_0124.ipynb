{
 "cells": [
  {
   "cell_type": "markdown",
   "metadata": {},
   "source": [
    "#### 공공데이터 과제 #1 <hr>"
   ]
  },
  {
   "cell_type": "markdown",
   "metadata": {},
   "source": [
    "- 문제 1\n",
    "\n",
    "DataFrame 사용"
   ]
  },
  {
   "cell_type": "code",
   "execution_count": 1,
   "metadata": {},
   "outputs": [],
   "source": [
    "import pandas as pd\n",
    "import numpy as np\n",
    "\n",
    "import matplotlib as mpl\n",
    "import matplotlib.pyplot as plt\n",
    "import matplotlib.font_manager as fm"
   ]
  },
  {
   "cell_type": "code",
   "execution_count": 2,
   "metadata": {},
   "outputs": [],
   "source": [
    "file = '../DATA/daegu-utf8-df.csv'"
   ]
  },
  {
   "cell_type": "code",
   "execution_count": 3,
   "metadata": {},
   "outputs": [],
   "source": [
    "# 폰트 파일의 경로 지정\n",
    "font_path = r'C:\\Windows\\Fonts\\gulim.ttc'"
   ]
  },
  {
   "cell_type": "code",
   "execution_count": 4,
   "metadata": {},
   "outputs": [],
   "source": [
    "# matplotlib 패키지에 한글 폰트 설정\n",
    "myFont = fm.FontProperties(fname = font_path).get_name()\n",
    "mpl.rc('font', family = myFont)"
   ]
  },
  {
   "cell_type": "code",
   "execution_count": 5,
   "metadata": {},
   "outputs": [],
   "source": [
    "# 한글 폰트 사용시 레이블의 '-' 기호 깨지는 현상 해결\n",
    "plt.rc('axes', unicode_minus = False)  # plt.rcParams['axes.unicode_minus'] = False와 동일"
   ]
  },
  {
   "cell_type": "code",
   "execution_count": 6,
   "metadata": {},
   "outputs": [
    {
     "name": "stdout",
     "output_type": "stream",
     "text": [
      "Index(['날짜', '지점', '평균기온', '최저기온', '최고기온'], dtype='object')\n",
      "object\n"
     ]
    }
   ],
   "source": [
    "weather_df = pd.read_csv(file, encoding = 'utf-8-sig')\n",
    "print(weather_df.columns)\n",
    "print(weather_df['날짜'].dtype)  # 날짜 컬럼은 object 타입"
   ]
  },
  {
   "cell_type": "code",
   "execution_count": 7,
   "metadata": {},
   "outputs": [
    {
     "data": {
      "text/plain": [
       "0    1909-01-01\n",
       "1    1909-01-02\n",
       "2    1909-01-03\n",
       "3    1909-01-04\n",
       "4    1909-01-05\n",
       "Name: 날짜, dtype: object"
      ]
     },
     "execution_count": 7,
     "metadata": {},
     "output_type": "execute_result"
    }
   ],
   "source": [
    "weather_df['날짜'].head()"
   ]
  },
  {
   "cell_type": "code",
   "execution_count": 8,
   "metadata": {},
   "outputs": [],
   "source": [
    "weather_df = weather_df[weather_df['날짜'].between('2014-01-01', '2023-12-31')]"
   ]
  },
  {
   "cell_type": "code",
   "execution_count": 9,
   "metadata": {},
   "outputs": [
    {
     "data": {
      "text/html": [
       "<div>\n",
       "<style scoped>\n",
       "    .dataframe tbody tr th:only-of-type {\n",
       "        vertical-align: middle;\n",
       "    }\n",
       "\n",
       "    .dataframe tbody tr th {\n",
       "        vertical-align: top;\n",
       "    }\n",
       "\n",
       "    .dataframe thead th {\n",
       "        text-align: right;\n",
       "    }\n",
       "</style>\n",
       "<table border=\"1\" class=\"dataframe\">\n",
       "  <thead>\n",
       "    <tr style=\"text-align: right;\">\n",
       "      <th></th>\n",
       "      <th>날짜</th>\n",
       "      <th>지점</th>\n",
       "      <th>평균기온</th>\n",
       "      <th>최저기온</th>\n",
       "      <th>최고기온</th>\n",
       "    </tr>\n",
       "  </thead>\n",
       "  <tbody>\n",
       "    <tr>\n",
       "      <th>38348</th>\n",
       "      <td>2014-01-01</td>\n",
       "      <td>143</td>\n",
       "      <td>6.5</td>\n",
       "      <td>2.8</td>\n",
       "      <td>10.4</td>\n",
       "    </tr>\n",
       "    <tr>\n",
       "      <th>38349</th>\n",
       "      <td>2014-01-02</td>\n",
       "      <td>143</td>\n",
       "      <td>5.5</td>\n",
       "      <td>1.7</td>\n",
       "      <td>10.7</td>\n",
       "    </tr>\n",
       "    <tr>\n",
       "      <th>38350</th>\n",
       "      <td>2014-01-03</td>\n",
       "      <td>143</td>\n",
       "      <td>3.8</td>\n",
       "      <td>-1.7</td>\n",
       "      <td>10.8</td>\n",
       "    </tr>\n",
       "    <tr>\n",
       "      <th>38351</th>\n",
       "      <td>2014-01-04</td>\n",
       "      <td>143</td>\n",
       "      <td>4.3</td>\n",
       "      <td>-0.8</td>\n",
       "      <td>10.0</td>\n",
       "    </tr>\n",
       "    <tr>\n",
       "      <th>38352</th>\n",
       "      <td>2014-01-05</td>\n",
       "      <td>143</td>\n",
       "      <td>4.3</td>\n",
       "      <td>1.5</td>\n",
       "      <td>8.8</td>\n",
       "    </tr>\n",
       "  </tbody>\n",
       "</table>\n",
       "</div>"
      ],
      "text/plain": [
       "               날짜   지점  평균기온  최저기온  최고기온\n",
       "38348  2014-01-01  143   6.5   2.8  10.4\n",
       "38349  2014-01-02  143   5.5   1.7  10.7\n",
       "38350  2014-01-03  143   3.8  -1.7  10.8\n",
       "38351  2014-01-04  143   4.3  -0.8  10.0\n",
       "38352  2014-01-05  143   4.3   1.5   8.8"
      ]
     },
     "execution_count": 9,
     "metadata": {},
     "output_type": "execute_result"
    }
   ],
   "source": [
    "weather_df.head()"
   ]
  },
  {
   "cell_type": "code",
   "execution_count": 10,
   "metadata": {},
   "outputs": [
    {
     "data": {
      "text/html": [
       "<div>\n",
       "<style scoped>\n",
       "    .dataframe tbody tr th:only-of-type {\n",
       "        vertical-align: middle;\n",
       "    }\n",
       "\n",
       "    .dataframe tbody tr th {\n",
       "        vertical-align: top;\n",
       "    }\n",
       "\n",
       "    .dataframe thead th {\n",
       "        text-align: right;\n",
       "    }\n",
       "</style>\n",
       "<table border=\"1\" class=\"dataframe\">\n",
       "  <thead>\n",
       "    <tr style=\"text-align: right;\">\n",
       "      <th></th>\n",
       "      <th>날짜</th>\n",
       "      <th>지점</th>\n",
       "      <th>평균기온</th>\n",
       "      <th>최저기온</th>\n",
       "      <th>최고기온</th>\n",
       "    </tr>\n",
       "  </thead>\n",
       "  <tbody>\n",
       "    <tr>\n",
       "      <th>41994</th>\n",
       "      <td>2023-12-27</td>\n",
       "      <td>143</td>\n",
       "      <td>3.8</td>\n",
       "      <td>-0.9</td>\n",
       "      <td>11.3</td>\n",
       "    </tr>\n",
       "    <tr>\n",
       "      <th>41995</th>\n",
       "      <td>2023-12-28</td>\n",
       "      <td>143</td>\n",
       "      <td>3.5</td>\n",
       "      <td>-3.0</td>\n",
       "      <td>10.6</td>\n",
       "    </tr>\n",
       "    <tr>\n",
       "      <th>41996</th>\n",
       "      <td>2023-12-29</td>\n",
       "      <td>143</td>\n",
       "      <td>3.1</td>\n",
       "      <td>-2.9</td>\n",
       "      <td>9.5</td>\n",
       "    </tr>\n",
       "    <tr>\n",
       "      <th>41997</th>\n",
       "      <td>2023-12-30</td>\n",
       "      <td>143</td>\n",
       "      <td>2.9</td>\n",
       "      <td>-2.9</td>\n",
       "      <td>7.7</td>\n",
       "    </tr>\n",
       "    <tr>\n",
       "      <th>41998</th>\n",
       "      <td>2023-12-31</td>\n",
       "      <td>143</td>\n",
       "      <td>4.6</td>\n",
       "      <td>1.4</td>\n",
       "      <td>7.9</td>\n",
       "    </tr>\n",
       "  </tbody>\n",
       "</table>\n",
       "</div>"
      ],
      "text/plain": [
       "               날짜   지점  평균기온  최저기온  최고기온\n",
       "41994  2023-12-27  143   3.8  -0.9  11.3\n",
       "41995  2023-12-28  143   3.5  -3.0  10.6\n",
       "41996  2023-12-29  143   3.1  -2.9   9.5\n",
       "41997  2023-12-30  143   2.9  -2.9   7.7\n",
       "41998  2023-12-31  143   4.6   1.4   7.9"
      ]
     },
     "execution_count": 10,
     "metadata": {},
     "output_type": "execute_result"
    }
   ],
   "source": [
    "weather_df.tail()"
   ]
  },
  {
   "cell_type": "code",
   "execution_count": 11,
   "metadata": {},
   "outputs": [],
   "source": [
    "weather_df['날짜'] = pd.to_datetime(weather_df['날짜'], format = '%Y-%m-%d')"
   ]
  },
  {
   "cell_type": "code",
   "execution_count": 12,
   "metadata": {},
   "outputs": [
    {
     "data": {
      "text/plain": [
       "38348   2014-01-01\n",
       "38349   2014-01-02\n",
       "38350   2014-01-03\n",
       "38351   2014-01-04\n",
       "38352   2014-01-05\n",
       "           ...    \n",
       "41994   2023-12-27\n",
       "41995   2023-12-28\n",
       "41996   2023-12-29\n",
       "41997   2023-12-30\n",
       "41998   2023-12-31\n",
       "Name: 날짜, Length: 3651, dtype: datetime64[ns]"
      ]
     },
     "execution_count": 12,
     "metadata": {},
     "output_type": "execute_result"
    }
   ],
   "source": [
    "weather_df['날짜']"
   ]
  },
  {
   "cell_type": "code",
   "execution_count": 13,
   "metadata": {},
   "outputs": [
    {
     "data": {
      "text/plain": [
       "38348    2014\n",
       "38349    2014\n",
       "38350    2014\n",
       "38351    2014\n",
       "38352    2014\n",
       "         ... \n",
       "41994    2023\n",
       "41995    2023\n",
       "41996    2023\n",
       "41997    2023\n",
       "41998    2023\n",
       "Name: 날짜, Length: 3651, dtype: int32"
      ]
     },
     "execution_count": 13,
     "metadata": {},
     "output_type": "execute_result"
    }
   ],
   "source": [
    "weather_df['날짜'].dt.year"
   ]
  },
  {
   "cell_type": "code",
   "execution_count": 14,
   "metadata": {},
   "outputs": [
    {
     "data": {
      "text/plain": [
       "38348     1\n",
       "38349     1\n",
       "38350     1\n",
       "38351     1\n",
       "38352     1\n",
       "         ..\n",
       "41994    12\n",
       "41995    12\n",
       "41996    12\n",
       "41997    12\n",
       "41998    12\n",
       "Name: 날짜, Length: 3651, dtype: int32"
      ]
     },
     "execution_count": 14,
     "metadata": {},
     "output_type": "execute_result"
    }
   ],
   "source": [
    "weather_df['날짜'].dt.month"
   ]
  },
  {
   "cell_type": "code",
   "execution_count": 15,
   "metadata": {},
   "outputs": [
    {
     "data": {
      "text/html": [
       "<div>\n",
       "<style scoped>\n",
       "    .dataframe tbody tr th:only-of-type {\n",
       "        vertical-align: middle;\n",
       "    }\n",
       "\n",
       "    .dataframe tbody tr th {\n",
       "        vertical-align: top;\n",
       "    }\n",
       "\n",
       "    .dataframe thead th {\n",
       "        text-align: right;\n",
       "    }\n",
       "</style>\n",
       "<table border=\"1\" class=\"dataframe\">\n",
       "  <thead>\n",
       "    <tr style=\"text-align: right;\">\n",
       "      <th></th>\n",
       "      <th>날짜</th>\n",
       "      <th>지점</th>\n",
       "      <th>평균기온</th>\n",
       "      <th>최저기온</th>\n",
       "      <th>최고기온</th>\n",
       "      <th>연도</th>\n",
       "      <th>달</th>\n",
       "    </tr>\n",
       "  </thead>\n",
       "  <tbody>\n",
       "    <tr>\n",
       "      <th>38348</th>\n",
       "      <td>2014-01-01</td>\n",
       "      <td>143</td>\n",
       "      <td>6.5</td>\n",
       "      <td>2.8</td>\n",
       "      <td>10.4</td>\n",
       "      <td>2014</td>\n",
       "      <td>1</td>\n",
       "    </tr>\n",
       "    <tr>\n",
       "      <th>38349</th>\n",
       "      <td>2014-01-02</td>\n",
       "      <td>143</td>\n",
       "      <td>5.5</td>\n",
       "      <td>1.7</td>\n",
       "      <td>10.7</td>\n",
       "      <td>2014</td>\n",
       "      <td>1</td>\n",
       "    </tr>\n",
       "    <tr>\n",
       "      <th>38350</th>\n",
       "      <td>2014-01-03</td>\n",
       "      <td>143</td>\n",
       "      <td>3.8</td>\n",
       "      <td>-1.7</td>\n",
       "      <td>10.8</td>\n",
       "      <td>2014</td>\n",
       "      <td>1</td>\n",
       "    </tr>\n",
       "    <tr>\n",
       "      <th>38351</th>\n",
       "      <td>2014-01-04</td>\n",
       "      <td>143</td>\n",
       "      <td>4.3</td>\n",
       "      <td>-0.8</td>\n",
       "      <td>10.0</td>\n",
       "      <td>2014</td>\n",
       "      <td>1</td>\n",
       "    </tr>\n",
       "    <tr>\n",
       "      <th>38352</th>\n",
       "      <td>2014-01-05</td>\n",
       "      <td>143</td>\n",
       "      <td>4.3</td>\n",
       "      <td>1.5</td>\n",
       "      <td>8.8</td>\n",
       "      <td>2014</td>\n",
       "      <td>1</td>\n",
       "    </tr>\n",
       "  </tbody>\n",
       "</table>\n",
       "</div>"
      ],
      "text/plain": [
       "              날짜   지점  평균기온  최저기온  최고기온    연도  달\n",
       "38348 2014-01-01  143   6.5   2.8  10.4  2014  1\n",
       "38349 2014-01-02  143   5.5   1.7  10.7  2014  1\n",
       "38350 2014-01-03  143   3.8  -1.7  10.8  2014  1\n",
       "38351 2014-01-04  143   4.3  -0.8  10.0  2014  1\n",
       "38352 2014-01-05  143   4.3   1.5   8.8  2014  1"
      ]
     },
     "execution_count": 15,
     "metadata": {},
     "output_type": "execute_result"
    }
   ],
   "source": [
    "weather_df['연도'] = weather_df['날짜'].dt.year\n",
    "weather_df['달'] = weather_df['날짜'].dt.month\n",
    "weather_df.head()"
   ]
  },
  {
   "cell_type": "code",
   "execution_count": 20,
   "metadata": {},
   "outputs": [],
   "source": [
    "max_temp = weather_df.groupby(['연도', '달'])[['최고기온']].max()\n",
    "min_temp = weather_df.groupby(['연도', '달'])[['최저기온']].min()"
   ]
  },
  {
   "cell_type": "code",
   "execution_count": 21,
   "metadata": {},
   "outputs": [
    {
     "data": {
      "text/html": [
       "<div>\n",
       "<style scoped>\n",
       "    .dataframe tbody tr th:only-of-type {\n",
       "        vertical-align: middle;\n",
       "    }\n",
       "\n",
       "    .dataframe tbody tr th {\n",
       "        vertical-align: top;\n",
       "    }\n",
       "\n",
       "    .dataframe thead th {\n",
       "        text-align: right;\n",
       "    }\n",
       "</style>\n",
       "<table border=\"1\" class=\"dataframe\">\n",
       "  <thead>\n",
       "    <tr style=\"text-align: right;\">\n",
       "      <th></th>\n",
       "      <th></th>\n",
       "      <th>최고기온</th>\n",
       "    </tr>\n",
       "    <tr>\n",
       "      <th>연도</th>\n",
       "      <th>달</th>\n",
       "      <th></th>\n",
       "    </tr>\n",
       "  </thead>\n",
       "  <tbody>\n",
       "    <tr>\n",
       "      <th rowspan=\"5\" valign=\"top\">2014</th>\n",
       "      <th>1</th>\n",
       "      <td>15.3</td>\n",
       "    </tr>\n",
       "    <tr>\n",
       "      <th>2</th>\n",
       "      <td>20.4</td>\n",
       "    </tr>\n",
       "    <tr>\n",
       "      <th>3</th>\n",
       "      <td>26.4</td>\n",
       "    </tr>\n",
       "    <tr>\n",
       "      <th>4</th>\n",
       "      <td>27.9</td>\n",
       "    </tr>\n",
       "    <tr>\n",
       "      <th>5</th>\n",
       "      <td>37.4</td>\n",
       "    </tr>\n",
       "    <tr>\n",
       "      <th>...</th>\n",
       "      <th>...</th>\n",
       "      <td>...</td>\n",
       "    </tr>\n",
       "    <tr>\n",
       "      <th rowspan=\"5\" valign=\"top\">2023</th>\n",
       "      <th>8</th>\n",
       "      <td>37.7</td>\n",
       "    </tr>\n",
       "    <tr>\n",
       "      <th>9</th>\n",
       "      <td>32.8</td>\n",
       "    </tr>\n",
       "    <tr>\n",
       "      <th>10</th>\n",
       "      <td>24.8</td>\n",
       "    </tr>\n",
       "    <tr>\n",
       "      <th>11</th>\n",
       "      <td>27.3</td>\n",
       "    </tr>\n",
       "    <tr>\n",
       "      <th>12</th>\n",
       "      <td>20.0</td>\n",
       "    </tr>\n",
       "  </tbody>\n",
       "</table>\n",
       "<p>120 rows × 1 columns</p>\n",
       "</div>"
      ],
      "text/plain": [
       "         최고기온\n",
       "연도   달       \n",
       "2014 1   15.3\n",
       "     2   20.4\n",
       "     3   26.4\n",
       "     4   27.9\n",
       "     5   37.4\n",
       "...       ...\n",
       "2023 8   37.7\n",
       "     9   32.8\n",
       "     10  24.8\n",
       "     11  27.3\n",
       "     12  20.0\n",
       "\n",
       "[120 rows x 1 columns]"
      ]
     },
     "execution_count": 21,
     "metadata": {},
     "output_type": "execute_result"
    }
   ],
   "source": [
    "max_temp"
   ]
  },
  {
   "cell_type": "code",
   "execution_count": 22,
   "metadata": {},
   "outputs": [
    {
     "data": {
      "text/html": [
       "<div>\n",
       "<style scoped>\n",
       "    .dataframe tbody tr th:only-of-type {\n",
       "        vertical-align: middle;\n",
       "    }\n",
       "\n",
       "    .dataframe tbody tr th {\n",
       "        vertical-align: top;\n",
       "    }\n",
       "\n",
       "    .dataframe thead th {\n",
       "        text-align: right;\n",
       "    }\n",
       "</style>\n",
       "<table border=\"1\" class=\"dataframe\">\n",
       "  <thead>\n",
       "    <tr style=\"text-align: right;\">\n",
       "      <th></th>\n",
       "      <th></th>\n",
       "      <th>최저기온</th>\n",
       "    </tr>\n",
       "    <tr>\n",
       "      <th>연도</th>\n",
       "      <th>달</th>\n",
       "      <th></th>\n",
       "    </tr>\n",
       "  </thead>\n",
       "  <tbody>\n",
       "    <tr>\n",
       "      <th rowspan=\"5\" valign=\"top\">2014</th>\n",
       "      <th>1</th>\n",
       "      <td>-6.2</td>\n",
       "    </tr>\n",
       "    <tr>\n",
       "      <th>2</th>\n",
       "      <td>-7.0</td>\n",
       "    </tr>\n",
       "    <tr>\n",
       "      <th>3</th>\n",
       "      <td>-1.1</td>\n",
       "    </tr>\n",
       "    <tr>\n",
       "      <th>4</th>\n",
       "      <td>4.6</td>\n",
       "    </tr>\n",
       "    <tr>\n",
       "      <th>5</th>\n",
       "      <td>8.5</td>\n",
       "    </tr>\n",
       "    <tr>\n",
       "      <th>...</th>\n",
       "      <th>...</th>\n",
       "      <td>...</td>\n",
       "    </tr>\n",
       "    <tr>\n",
       "      <th rowspan=\"5\" valign=\"top\">2023</th>\n",
       "      <th>8</th>\n",
       "      <td>21.2</td>\n",
       "    </tr>\n",
       "    <tr>\n",
       "      <th>9</th>\n",
       "      <td>15.3</td>\n",
       "    </tr>\n",
       "    <tr>\n",
       "      <th>10</th>\n",
       "      <td>5.3</td>\n",
       "    </tr>\n",
       "    <tr>\n",
       "      <th>11</th>\n",
       "      <td>-2.4</td>\n",
       "    </tr>\n",
       "    <tr>\n",
       "      <th>12</th>\n",
       "      <td>-9.7</td>\n",
       "    </tr>\n",
       "  </tbody>\n",
       "</table>\n",
       "<p>120 rows × 1 columns</p>\n",
       "</div>"
      ],
      "text/plain": [
       "         최저기온\n",
       "연도   달       \n",
       "2014 1   -6.2\n",
       "     2   -7.0\n",
       "     3   -1.1\n",
       "     4    4.6\n",
       "     5    8.5\n",
       "...       ...\n",
       "2023 8   21.2\n",
       "     9   15.3\n",
       "     10   5.3\n",
       "     11  -2.4\n",
       "     12  -9.7\n",
       "\n",
       "[120 rows x 1 columns]"
      ]
     },
     "execution_count": 22,
     "metadata": {},
     "output_type": "execute_result"
    }
   ],
   "source": [
    "min_temp"
   ]
  },
  {
   "cell_type": "code",
   "execution_count": 23,
   "metadata": {},
   "outputs": [
    {
     "data": {
      "text/plain": [
       "-6.2"
      ]
     },
     "execution_count": 23,
     "metadata": {},
     "output_type": "execute_result"
    }
   ],
   "source": [
    "min_temp.loc[(2014,1)].values[0]"
   ]
  },
  {
   "cell_type": "code",
   "execution_count": 24,
   "metadata": {},
   "outputs": [],
   "source": [
    "diff = max_temp['최고기온'].sub(min_temp['최저기온'])"
   ]
  },
  {
   "cell_type": "code",
   "execution_count": 25,
   "metadata": {},
   "outputs": [
    {
     "data": {
      "text/plain": [
       "연도    달 \n",
       "2014  1     21.5\n",
       "      2     27.4\n",
       "      3     27.5\n",
       "      4     23.3\n",
       "      5     28.9\n",
       "            ... \n",
       "2023  8     16.5\n",
       "      9     17.5\n",
       "      10    19.5\n",
       "      11    29.7\n",
       "      12    29.7\n",
       "Length: 120, dtype: float64"
      ]
     },
     "execution_count": 25,
     "metadata": {},
     "output_type": "execute_result"
    }
   ],
   "source": [
    "diff"
   ]
  },
  {
   "cell_type": "code",
   "execution_count": 26,
   "metadata": {},
   "outputs": [
    {
     "data": {
      "text/plain": [
       "MultiIndex([(2014,  1),\n",
       "            (2014,  2),\n",
       "            (2014,  3),\n",
       "            (2014,  4),\n",
       "            (2014,  5),\n",
       "            (2014,  6),\n",
       "            (2014,  7),\n",
       "            (2014,  8),\n",
       "            (2014,  9),\n",
       "            (2014, 10),\n",
       "            ...\n",
       "            (2023,  3),\n",
       "            (2023,  4),\n",
       "            (2023,  5),\n",
       "            (2023,  6),\n",
       "            (2023,  7),\n",
       "            (2023,  8),\n",
       "            (2023,  9),\n",
       "            (2023, 10),\n",
       "            (2023, 11),\n",
       "            (2023, 12)],\n",
       "           names=['연도', '달'], length=120)"
      ]
     },
     "execution_count": 26,
     "metadata": {},
     "output_type": "execute_result"
    }
   ],
   "source": [
    "diff.index"
   ]
  },
  {
   "cell_type": "code",
   "execution_count": 27,
   "metadata": {},
   "outputs": [
    {
     "data": {
      "text/plain": [
       "달\n",
       "1     26.9\n",
       "2     22.0\n",
       "3     27.0\n",
       "4     23.2\n",
       "5     24.1\n",
       "6     21.2\n",
       "7     16.7\n",
       "8     21.2\n",
       "9     19.1\n",
       "10    21.9\n",
       "11    23.4\n",
       "12    21.7\n",
       "dtype: float64"
      ]
     },
     "execution_count": 27,
     "metadata": {},
     "output_type": "execute_result"
    }
   ],
   "source": [
    "diff.xs(2016, level = 0)"
   ]
  },
  {
   "cell_type": "code",
   "execution_count": 28,
   "metadata": {},
   "outputs": [
    {
     "data": {
      "text/plain": [
       "3"
      ]
     },
     "execution_count": 28,
     "metadata": {},
     "output_type": "execute_result"
    }
   ],
   "source": [
    "diff.xs(2016, level = 0).idxmax()"
   ]
  },
  {
   "cell_type": "code",
   "execution_count": 29,
   "metadata": {},
   "outputs": [
    {
     "data": {
      "text/plain": [
       "Text(0.5, 1.0, '지난 10년간 대구의 일교차가 가장 큰 달')"
      ]
     },
     "execution_count": 29,
     "metadata": {},
     "output_type": "execute_result"
    },
    {
     "data": {
      "image/png": "[encoded data removed]",
      "text/plain": [
       "<Figure size 1000x500 with 1 Axes>"
      ]
     },
     "metadata": {},
     "output_type": "display_data"
    }
   ],
   "source": [
    "year_month = []\n",
    "diff_max = []\n",
    "for year in range(2014, 2024):\n",
    "    year_month.append(str(year) + '.' + str(diff.xs(year, level = 0).idxmax()))\n",
    "    diff_max.append(diff.xs(year, level = 0).max())\n",
    "    \n",
    "plt.figure(figsize = (10, 5))\n",
    "plt.bar(year_month, diff_max)\n",
    "plt.xlabel('Year/Month', fontsize = 20)\n",
    "plt.ylabel('일교차', fontsize = 20)\n",
    "plt.title('지난 10년간 대구의 일교차가 가장 큰 달', fontsize = 20)"
   ]
  },
  {
   "cell_type": "markdown",
   "metadata": {},
   "source": [
    "- 문제 2\n",
    "\n",
    "DataFrame 사용"
   ]
  },
  {
   "cell_type": "code",
   "execution_count": 165,
   "metadata": {},
   "outputs": [],
   "source": [
    "def plot_graph():\n",
    "    \n",
    "    start_year = int(input('시작 연도를 입력하세요 : '))\n",
    "    last_year = int(input('마지막 연도를 입력하세요 : '))\n",
    "    change_month = int(input('기온 변화를 측정할 달을 입력하세요 : '))\n",
    "    \n",
    "    weather_df = pd.read_csv(file, encoding = 'utf-8-sig')\n",
    "    weather_df = weather_df[weather_df['날짜'].between(str(start_year) +'-01-01', str(last_year) + '-12-31')]\n",
    "\n",
    "    weather_df['날짜'] = pd.to_datetime(weather_df['날짜'], format = '%Y-%m-%d')\n",
    "    \n",
    "    weather_df['연도'] = weather_df['날짜'].dt.year\n",
    "    weather_df['달'] = weather_df['날짜'].dt.month\n",
    "    \n",
    "    max_temp_mean = weather_df.groupby(['연도', '달']).mean()[['최고기온']]\n",
    "    min_temp_mean = weather_df.groupby(['연도', '달']).mean()[['최저기온']]\n",
    "\n",
    "    value_max_mean = []\n",
    "    value_min_mean = []\n",
    "    for year in range(start_year, last_year + 1):\n",
    "        value_max_mean.append(round(max_temp_mean.loc[(year, change_month)].values[0], 1))\n",
    "        value_min_mean.append(round(min_temp_mean.loc[(year, change_month)].values[0], 1))\n",
    "    \n",
    "    print(f'{change_month}월 최저기온 평균 : {value_min_mean}')\n",
    "    print(f'{change_month}월 최고기온 평균 : {value_max_mean}')\n",
    "    \n",
    "    plt.figure(figsize = (15, 5))\n",
    "    plt.plot(range(start_year, last_year + 1), value_max_mean, 'ro-', label = '최고기온')\n",
    "    plt.plot(range(start_year, last_year + 1), value_min_mean, 'bo-', label = '최저기온')\n",
    "    plt.xticks(np.arange(start_year, last_year + 1))  # np.arange를 이용하여 눈금 간격 1로 조정\n",
    "    plt.title(f'{start_year}년부터 {last_year}년까지 {change_month}월의 기온 변화', fontsize = 20)\n",
    "    plt.legend()"
   ]
  },
  {
   "cell_type": "code",
   "execution_count": 166,
   "metadata": {},
   "outputs": [
    {
     "name": "stdout",
     "output_type": "stream",
     "text": [
      "8월 최저기온 평균 : [23.7, 22.1, 21.7, 22.4, 22.9, 24.3, 24.2, 22.2, 22.2, 25.0, 23.1, 24.5, 25.0, 21.7, 22.0, 23.2, 22.5, 23.7, 23.7, 24.8, 22.4, 23.4, 24.0]\n",
      "8월 최고기온 평균 : [31.4, 28.5, 29.2, 30.7, 31.0, 33.3, 32.0, 30.7, 29.7, 33.6, 30.3, 32.4, 34.4, 28.8, 31.2, 33.2, 31.4, 32.9, 32.2, 33.3, 30.5, 31.4, 31.9]\n"
     ]
    },
    {
     "data": {
      "image/png": "[encoded data removed]",
      "text/plain": [
       "<Figure size 1500x500 with 1 Axes>"
      ]
     },
     "metadata": {},
     "output_type": "display_data"
    }
   ],
   "source": [
    "plot_graph()"
   ]
  },
  {
   "cell_type": "markdown",
   "metadata": {},
   "source": []
  },
  {
   "cell_type": "code",
   "execution_count": null,
   "metadata": {},
   "outputs": [],
   "source": []
  },
  {
   "cell_type": "code",
   "execution_count": null,
   "metadata": {},
   "outputs": [],
   "source": []
  }
 ],
 "metadata": {
  "kernelspec": {
   "display_name": "TEST",
   "language": "python",
   "name": "python3"
  },
  "language_info": {
   "codemirror_mode": {
    "name": "ipython",
    "version": 3
   },
   "file_extension": ".py",
   "mimetype": "text/x-python",
   "name": "python",
   "nbconvert_exporter": "python",
   "pygments_lexer": "ipython3",
   "version": "3.9.18"
  }
 },
 "nbformat": 4,
 "nbformat_minor": 2
}
