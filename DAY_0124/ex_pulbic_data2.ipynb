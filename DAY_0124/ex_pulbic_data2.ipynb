{
 "cells": [
  {
   "cell_type": "code",
   "execution_count": 2,
   "metadata": {},
   "outputs": [],
   "source": [
    "import pandas as pd\n",
    "\n",
    "import matplotlib as mpl\n",
    "import matplotlib.pyplot as plt\n",
    "import matplotlib.font_manager as fm"
   ]
  },
  {
   "cell_type": "code",
   "execution_count": 3,
   "metadata": {},
   "outputs": [],
   "source": [
    "# 폰트 파일의 경로 지정\n",
    "font_path = r'C:\\Windows\\Fonts\\gulim.ttc'"
   ]
  },
  {
   "cell_type": "code",
   "execution_count": 4,
   "metadata": {},
   "outputs": [],
   "source": [
    "# matplotlib 패키지에 한글 폰트 설정\n",
    "myFont = fm.FontProperties(fname = font_path).get_name()\n",
    "mpl.rc('font', family = myFont)"
   ]
  },
  {
   "cell_type": "code",
   "execution_count": 5,
   "metadata": {},
   "outputs": [],
   "source": [
    "# 한글 폰트 사용시 레이블의 '-' 기호 깨지는 현상 해결\n",
    "plt.rc('axes', unicode_minus = False)  # plt.rcParams['axes.unicode_minus'] = False와 동일"
   ]
  },
  {
   "cell_type": "markdown",
   "metadata": {},
   "source": [
    "### Pandas를 활용한 기온 데이터 <hr>\n",
    "- 누락값(NaN) 처리\n",
    "    - dropna(axis) : 누락값 제거  \n",
    "    => axis = 0 : Nan이 포함된 행 제거  \n",
    "    => axis = 1 : Nan이 포함된 열 제거\n",
    "    - fillna(0) : 누락값을 0으로 변경\n",
    "    - fillna(method = 'ffill') : 이전 값으로 변경 (forward fill)\n",
    "    - fillna(method = 'bfill') : 이후 값으로 변경 (backwark fill)\n",
    "    - interpolate() : 누락값 양쪽의 값으로 중간값 계산"
   ]
  },
  {
   "cell_type": "markdown",
   "metadata": {},
   "source": [
    "#### Pandas의 read_csv() 함수 호출"
   ]
  },
  {
   "cell_type": "code",
   "execution_count": 6,
   "metadata": {},
   "outputs": [
    {
     "name": "stdout",
     "output_type": "stream",
     "text": [
      "Index(['날짜', '지점', '평균기온(℃)', '최저기온(℃)', '최고기온(℃)'], dtype='object')\n",
      "object\n"
     ]
    }
   ],
   "source": [
    "import pandas as pd\n",
    "\n",
    "data_file = '../DATA/daegu-utf8.csv'\n",
    "weather_df = pd.read_csv(data_file, encoding = 'utf-8-sig')\n",
    "print(weather_df.columns)\n",
    "print(weather_df['날짜'].dtype)  # 날짜 컬럼은 object 타입"
   ]
  },
  {
   "cell_type": "markdown",
   "metadata": {},
   "source": [
    "#### DataFrame의 column 이름 변경 :특수 문자(최고기온(℃)) 제거"
   ]
  },
  {
   "cell_type": "code",
   "execution_count": 7,
   "metadata": {},
   "outputs": [
    {
     "data": {
      "text/plain": [
       "Index(['날짜', '지점', '평균기온', '최저기온', '최고기온'], dtype='object')"
      ]
     },
     "execution_count": 7,
     "metadata": {},
     "output_type": "execute_result"
    }
   ],
   "source": [
    "weather_df.columns = ['날짜', '지점', '평균기온', '최저기온', '최고기온']\n",
    "weather_df.columns"
   ]
  },
  {
   "cell_type": "markdown",
   "metadata": {},
   "source": [
    "#### '날짜' 컬럼의 데이터 타입을 datetime 타입으로 변경"
   ]
  },
  {
   "cell_type": "code",
   "execution_count": 8,
   "metadata": {},
   "outputs": [
    {
     "name": "stdout",
     "output_type": "stream",
     "text": [
      "datetime64[ns]\n"
     ]
    }
   ],
   "source": [
    "weather_df['날짜'] = pd.to_datetime(weather_df['날짜'], format = '%Y-%m-%d')\n",
    "print(weather_df['날짜'].dtype)"
   ]
  },
  {
   "cell_type": "markdown",
   "metadata": {},
   "source": [
    "#### 누락값 개수 구하기"
   ]
  },
  {
   "cell_type": "code",
   "execution_count": 9,
   "metadata": {},
   "outputs": [
    {
     "name": "stdout",
     "output_type": "stream",
     "text": [
      "          날짜   지점  평균기온  최저기온  최고기온\n",
      "0 1907-01-31  143   NaN  -7.0   0.8\n",
      "1 1907-02-01  143   NaN   NaN   NaN\n",
      "2 1907-02-02  143   NaN   NaN   NaN\n",
      "3 1907-02-03  143   NaN   NaN   NaN\n",
      "4 1907-02-04  143   NaN   NaN   NaN\n",
      "(42704, 5)\n",
      "날짜        0\n",
      "지점        0\n",
      "평균기온    703\n",
      "최저기온    629\n",
      "최고기온    630\n",
      "dtype: int64\n"
     ]
    }
   ],
   "source": [
    "print(weather_df.head(5))\n",
    "print(weather_df.shape)\n",
    "num_rows = weather_df.shape[0]  # shape(row, col), shape[0] : row의 개수\n",
    "num_missing = num_rows - weather_df.count()  # count() :정상값의 개수\n",
    "print(num_missing)"
   ]
  },
  {
   "cell_type": "markdown",
   "metadata": {},
   "source": [
    "### 누락값(NaN) 처리"
   ]
  },
  {
   "cell_type": "code",
   "execution_count": 10,
   "metadata": {},
   "outputs": [
    {
     "name": "stdout",
     "output_type": "stream",
     "text": [
      "날짜      41999\n",
      "지점      41999\n",
      "평균기온    41999\n",
      "최저기온    41999\n",
      "최고기온    41999\n",
      "dtype: int64\n",
      "            날짜   지점  평균기온  최저기온  최고기온\n",
      "701 1909-01-01  143  -4.1  -8.0   0.1\n",
      "702 1909-01-02  143  -0.8  -6.7   6.1\n",
      "703 1909-01-03  143   1.0  -2.4   3.6\n",
      "704 1909-01-04  143   4.2   0.0   9.2\n",
      "705 1909-01-05  143   3.4  -0.4   9.0\n"
     ]
    }
   ],
   "source": [
    "weather_df = weather_df.dropna(axis = 0)\n",
    "print(weather_df.count())\n",
    "print(weather_df.head(5))"
   ]
  },
  {
   "cell_type": "markdown",
   "metadata": {},
   "source": [
    "#### 누락값을 제거한 최종 데이터프레임을 csv파일로 저장\n",
    "- index = False : 인덱스 항목 저장 안함\n",
    "- encoding = 'utf-8-sig' (euc_kr이 아닌 utf-8로 저장)"
   ]
  },
  {
   "cell_type": "code",
   "execution_count": 11,
   "metadata": {},
   "outputs": [],
   "source": [
    "weather_df.to_csv('daegu-utf8-df.csv', index = False, mode = 'w', encoding = 'utf-8-sig')"
   ]
  },
  {
   "cell_type": "markdown",
   "metadata": {},
   "source": [
    "### 특정 연도와 달의 최고기온 및 최저기온 평균값 계산 <hr>\n",
    "- 해당연도와 달의 DataFrame 가져오기\n",
    "- datetime 객체 접근 - dt.year, dt.month, dt.day"
   ]
  },
  {
   "cell_type": "code",
   "execution_count": 12,
   "metadata": {},
   "outputs": [
    {
     "data": {
      "text/html": [
       "<div>\n",
       "<style scoped>\n",
       "    .dataframe tbody tr th:only-of-type {\n",
       "        vertical-align: middle;\n",
       "    }\n",
       "\n",
       "    .dataframe tbody tr th {\n",
       "        vertical-align: top;\n",
       "    }\n",
       "\n",
       "    .dataframe thead th {\n",
       "        text-align: right;\n",
       "    }\n",
       "</style>\n",
       "<table border=\"1\" class=\"dataframe\">\n",
       "  <thead>\n",
       "    <tr style=\"text-align: right;\">\n",
       "      <th></th>\n",
       "      <th>날짜</th>\n",
       "      <th>지점</th>\n",
       "      <th>평균기온</th>\n",
       "      <th>최저기온</th>\n",
       "      <th>최고기온</th>\n",
       "    </tr>\n",
       "  </thead>\n",
       "  <tbody>\n",
       "    <tr>\n",
       "      <th>42551</th>\n",
       "      <td>2023-08-01</td>\n",
       "      <td>143</td>\n",
       "      <td>29.7</td>\n",
       "      <td>24.9</td>\n",
       "      <td>34.8</td>\n",
       "    </tr>\n",
       "    <tr>\n",
       "      <th>42552</th>\n",
       "      <td>2023-08-02</td>\n",
       "      <td>143</td>\n",
       "      <td>30.0</td>\n",
       "      <td>23.9</td>\n",
       "      <td>34.7</td>\n",
       "    </tr>\n",
       "    <tr>\n",
       "      <th>42553</th>\n",
       "      <td>2023-08-03</td>\n",
       "      <td>143</td>\n",
       "      <td>31.5</td>\n",
       "      <td>27.0</td>\n",
       "      <td>37.7</td>\n",
       "    </tr>\n",
       "    <tr>\n",
       "      <th>42554</th>\n",
       "      <td>2023-08-04</td>\n",
       "      <td>143</td>\n",
       "      <td>30.5</td>\n",
       "      <td>26.0</td>\n",
       "      <td>34.7</td>\n",
       "    </tr>\n",
       "    <tr>\n",
       "      <th>42555</th>\n",
       "      <td>2023-08-05</td>\n",
       "      <td>143</td>\n",
       "      <td>31.5</td>\n",
       "      <td>25.7</td>\n",
       "      <td>37.2</td>\n",
       "    </tr>\n",
       "  </tbody>\n",
       "</table>\n",
       "</div>"
      ],
      "text/plain": [
       "              날짜   지점  평균기온  최저기온  최고기온\n",
       "42551 2023-08-01  143  29.7  24.9  34.8\n",
       "42552 2023-08-02  143  30.0  23.9  34.7\n",
       "42553 2023-08-03  143  31.5  27.0  37.7\n",
       "42554 2023-08-04  143  30.5  26.0  34.7\n",
       "42555 2023-08-05  143  31.5  25.7  37.2"
      ]
     },
     "execution_count": 12,
     "metadata": {},
     "output_type": "execute_result"
    }
   ],
   "source": [
    "year_df = weather_df[weather_df['날짜'].dt.year == 2023]\n",
    "month_df = year_df[year_df['날짜'].dt.month == 8]\n",
    "month_df.head()"
   ]
  },
  {
   "cell_type": "code",
   "execution_count": 13,
   "metadata": {},
   "outputs": [
    {
     "name": "stdout",
     "output_type": "stream",
     "text": [
      "2023년 8월 최저기온 평균 : 24.0, 최고기온 평균 : 31.9\n"
     ]
    }
   ],
   "source": [
    "max_temp_mean = round(month_df['최고기온'].mean(), 1)\n",
    "min_temp_mean = round(month_df['최저기온'].mean(), 1)\n",
    "print(f'2023년 8월 최저기온 평균 : {min_temp_mean}, 최고기온 평균 : {max_temp_mean}')"
   ]
  },
  {
   "cell_type": "markdown",
   "metadata": {},
   "source": [
    "#### 1990년대와 2010년대 최고 기온 비교 <hr>"
   ]
  },
  {
   "cell_type": "code",
   "execution_count": 14,
   "metadata": {},
   "outputs": [],
   "source": [
    "def draw_two_plots(title, x_data, max_temp_list1, label_y1, max_temp_list2, label_y2):\n",
    "    plt.figure(figsize = (10, 4))\n",
    "    plt.plot(x_data, max_temp_list1, marker = 's', markersize = 6, color = 'b', label = label_y1)\n",
    "    plt.plot(x_data, max_temp_list2, marker = 's', markersize = 6, color = 'r', label = label_y2)\n",
    "    plt.xticks(x_data)\n",
    "\n",
    "    plt.title(title)\n",
    "    plt.legend()\n",
    "    plt.show()"
   ]
  },
  {
   "cell_type": "code",
   "execution_count": 16,
   "metadata": {},
   "outputs": [
    {
     "name": "stdout",
     "output_type": "stream",
     "text": [
      "1990년대 8월 최고기온 평균 : [33.9, 28.3, 29.0, 27.0, 34.5, 34.0, 32.3, 30.9, 30.1, 29.1]\n",
      "2010년대 8월 최고기온 평균 : [33.6, 30.3, 32.4, 34.4, 28.8, 31.2, 33.2, 31.4, 32.9, 32.2]\n",
      "1990년대 8월 전체 최고 기온 평균 : 30.9\n",
      "2010년대 8월 전체 최고 기온 평균 : 32.0\n"
     ]
    },
    {
     "data": {
      "image/png": "[encoded data removed]",
      "text/plain": [
       "<Figure size 1000x400 with 1 Axes>"
      ]
     },
     "metadata": {},
     "output_type": "display_data"
    }
   ],
   "source": [
    "def main():\n",
    "    search_month = int(input('달을 입력하세요 : '))\n",
    "\n",
    "    data_file = '../DATA/daegu-utf8-df.csv'\n",
    "    weather_df = pd.read_csv(data_file, encoding = 'utf-8-sig')\n",
    "    weather_df['날짜'] = pd.to_datetime(weather_df['날짜'], format = '%Y-%m-%d')\n",
    "    first_decade_max_temp_list = [0] * 10\n",
    "    second_decade_max_temp_list = [0] * 10\n",
    "\n",
    "    first_decade = 1990\n",
    "    second_decade = 2010\n",
    "\n",
    "    for year in range(10):\n",
    "        first_decade_df = weather_df[(weather_df['날짜'].dt.year == first_decade + year) & (weather_df['날짜'].dt.month == search_month)]\n",
    "        first_decade_max_temp_list[year] = round(first_decade_df['최고기온'].mean(),1)\n",
    "        second_decade_df = weather_df[(weather_df['날짜'].dt.year == second_decade + year) & (weather_df['날짜'].dt.month == search_month)]\n",
    "        second_decade_max_temp_list[year] = round(second_decade_df['최고기온'].mean(), 1)\n",
    "\n",
    "    print(f'{first_decade}년대 {search_month}월 최고기온 평균 : {first_decade_max_temp_list}')\n",
    "    print(f'{second_decade}년대 {search_month}월 최고기온 평균 : {second_decade_max_temp_list}')\n",
    "\n",
    "    first_decade_high_temp_mean = round(sum(first_decade_max_temp_list) / len(first_decade_max_temp_list), 1)\n",
    "    second_decade_high_temp_mean = round(sum(second_decade_max_temp_list) / len(second_decade_max_temp_list), 1)\n",
    "\n",
    "    print(f'{first_decade}년대 {search_month}월 전체 최고 기온 평균 : {first_decade_high_temp_mean}')\n",
    "    print(f'{second_decade}년대 {search_month}월 전체 최고 기온 평균 : {second_decade_high_temp_mean}')\n",
    "    \n",
    "    x_data = [i for i in range(10)]\n",
    "    draw_two_plots(f'{first_decade}년대 {search_month}월 전체 최고 기온 비교', x_data, first_decade_max_temp_list, str(first_decade) +'년대', second_decade_max_temp_list, str(second_decade) + '년대')\n",
    "\n",
    "main()\n"
   ]
  }
 ],
 "metadata": {
  "kernelspec": {
   "display_name": "TEST",
   "language": "python",
   "name": "python3"
  },
  "language_info": {
   "codemirror_mode": {
    "name": "ipython",
    "version": 3
   },
   "file_extension": ".py",
   "mimetype": "text/x-python",
   "name": "python",
   "nbconvert_exporter": "python",
   "pygments_lexer": "ipython3",
   "version": "3.9.18"
  }
 },
 "nbformat": 4,
 "nbformat_minor": 2
}
