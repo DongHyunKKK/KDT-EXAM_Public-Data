{
 "cells": [
  {
   "cell_type": "markdown",
   "metadata": {},
   "source": [
    "#### lambda와 operator를 사용한 dictionary 정렬 <hr>"
   ]
  },
  {
   "cell_type": "markdown",
   "metadata": {},
   "source": [
    "- lambda를 사용한 정렬"
   ]
  },
  {
   "cell_type": "code",
   "execution_count": 1,
   "metadata": {},
   "outputs": [
    {
     "name": "stdout",
     "output_type": "stream",
     "text": [
      "[lambda] dict 정렬 : key 기준 오름차순\n",
      "[('Aimy', 9778), ('Bob', 5887), ('Kelly', 7855), ('Mary', 10999), ('Miracle', 27115), ('Sams', 2111), ('Tom', 20245)]\n",
      "\n",
      "[lambda] dict정렬 : value 기준, 내림차순\n",
      "[('Miracle', 27115), ('Tom', 20245), ('Mary', 10999), ('Aimy', 9778), ('Kelly', 7855), ('Bob', 5887), ('Sams', 2111)]\n"
     ]
    }
   ],
   "source": [
    "names = {'Mary' : 10999, 'Sams' : 2111, 'Aimy' : 9778, 'Tom' : 20245, 'Miracle' : 27115, 'Bob' : 5887, 'Kelly' : 7855}\n",
    "\n",
    "# key를 기준으로 정렬 (기본 : 오름차순)\n",
    "print('[lambda] dict 정렬 : key 기준 오름차순')\n",
    "res = sorted(names.items(), key = (lambda x : x[0]))\n",
    "print(res)\n",
    "print()\n",
    "\n",
    "# Value를 기준으로 정렬, 내림차순 : reverse = True\n",
    "print('[lambda] dict정렬 : value 기준, 내림차순')\n",
    "res = sorted(names.items(), key = (lambda x : x[1]), reverse = True)\n",
    "print(res)"
   ]
  },
  {
   "cell_type": "markdown",
   "metadata": {},
   "source": [
    "- operator 모듈을 이용한 정렬"
   ]
  },
  {
   "cell_type": "code",
   "execution_count": 2,
   "metadata": {},
   "outputs": [],
   "source": [
    "import operator"
   ]
  },
  {
   "cell_type": "code",
   "execution_count": 3,
   "metadata": {},
   "outputs": [
    {
     "name": "stdout",
     "output_type": "stream",
     "text": [
      "[operator] dict정렬 : key 기준, 오름차순\n",
      "[('Aimy', 9778), ('Bob', 5887), ('Kelly', 7855), ('Mary', 10999), ('Miracle', 27115), ('Sams', 2111), ('Tom', 20245)]\n",
      "\n",
      "[operator] dict정렬 : value 기준, 내림차순\n",
      "[('Miracle', 27115), ('Tom', 20245), ('Mary', 10999), ('Aimy', 9778), ('Kelly', 7855), ('Bob', 5887), ('Sams', 2111)]\n"
     ]
    }
   ],
   "source": [
    "names = {'Mary' : 10999, 'Sams' : 2111, 'Aimy' : 9778, 'Tom' : 20245, 'Miracle' : 27115, 'Bob' : 5887, 'Kelly' : 7855}\n",
    "\n",
    "# key를 기준으로 정렬 (오름차순)\n",
    "sorted_x = sorted(names.items(), key = operator.itemgetter(0))\n",
    "print('[operator] dict정렬 : key 기준, 오름차순')\n",
    "print(sorted_x)\n",
    "print()\n",
    "\n",
    "# Value를 기준으로 정렬 (내림차순)\n",
    "sorted_x = sorted(names.items(), key = operator.itemgetter(1), reverse = True)\n",
    "print('[operator] dict정렬 : value 기준, 내림차순')\n",
    "print(sorted_x)"
   ]
  },
  {
   "cell_type": "code",
   "execution_count": null,
   "metadata": {},
   "outputs": [],
   "source": []
  }
 ],
 "metadata": {
  "kernelspec": {
   "display_name": "TEST",
   "language": "python",
   "name": "python3"
  },
  "language_info": {
   "codemirror_mode": {
    "name": "ipython",
    "version": 3
   },
   "file_extension": ".py",
   "mimetype": "text/x-python",
   "name": "python",
   "nbconvert_exporter": "python",
   "pygments_lexer": "ipython3",
   "version": "3.9.18"
  }
 },
 "nbformat": 4,
 "nbformat_minor": 2
}
