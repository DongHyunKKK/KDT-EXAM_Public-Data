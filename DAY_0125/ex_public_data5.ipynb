{
 "cells": [
  {
   "cell_type": "code",
   "execution_count": 91,
   "metadata": {},
   "outputs": [],
   "source": [
    "import pandas as pd\n",
    "import numpy as np\n",
    "\n",
    "import matplotlib as mpl\n",
    "import matplotlib.pyplot as plt\n",
    "import matplotlib.font_manager as fm"
   ]
  },
  {
   "cell_type": "code",
   "execution_count": 92,
   "metadata": {},
   "outputs": [],
   "source": [
    "# 폰트 파일의 경로 지정\n",
    "font_path = r'C:\\Windows\\Fonts\\gulim.ttc'"
   ]
  },
  {
   "cell_type": "code",
   "execution_count": 93,
   "metadata": {},
   "outputs": [],
   "source": [
    "# matplotlib 패키지에 한글 폰트 설정\n",
    "myFont = fm.FontProperties(fname = font_path).get_name()\n",
    "mpl.rc('font', family = myFont)"
   ]
  },
  {
   "cell_type": "code",
   "execution_count": 94,
   "metadata": {},
   "outputs": [],
   "source": [
    "# 한글 폰트 사용시 레이블의 '-' 기호 깨지는 현상 해결\n",
    "plt.rc('axes', unicode_minus = False)  # plt.rcParams['axes.unicode_minus'] = False와 동일"
   ]
  },
  {
   "cell_type": "code",
   "execution_count": 95,
   "metadata": {},
   "outputs": [],
   "source": [
    "file = '../DATA/subway.xls'"
   ]
  },
  {
   "cell_type": "code",
   "execution_count": 96,
   "metadata": {},
   "outputs": [],
   "source": [
    "df = pd.read_excel(file, sheet_name = '지하철 시간대별 이용현황', header = [0, 1])\n"
   ]
  },
  {
   "cell_type": "code",
   "execution_count": 97,
   "metadata": {},
   "outputs": [
    {
     "data": {
      "text/html": [
       "<div>\n",
       "<style scoped>\n",
       "    .dataframe tbody tr th:only-of-type {\n",
       "        vertical-align: middle;\n",
       "    }\n",
       "\n",
       "    .dataframe tbody tr th {\n",
       "        vertical-align: top;\n",
       "    }\n",
       "\n",
       "    .dataframe thead tr th {\n",
       "        text-align: left;\n",
       "    }\n",
       "</style>\n",
       "<table border=\"1\" class=\"dataframe\">\n",
       "  <thead>\n",
       "    <tr>\n",
       "      <th></th>\n",
       "      <th>사용월</th>\n",
       "      <th>호선명</th>\n",
       "      <th>역ID</th>\n",
       "      <th>지하철역</th>\n",
       "      <th colspan=\"2\" halign=\"left\">04:00:00~04:59:59</th>\n",
       "      <th colspan=\"2\" halign=\"left\">05:00:00~05:59:59</th>\n",
       "      <th colspan=\"2\" halign=\"left\">06:00:00~06:59:59</th>\n",
       "      <th>...</th>\n",
       "      <th>23:00:00~23:59:59</th>\n",
       "      <th colspan=\"2\" halign=\"left\">00:00:00~00:59:59</th>\n",
       "      <th colspan=\"2\" halign=\"left\">01:00:00~01:59:59</th>\n",
       "      <th colspan=\"2\" halign=\"left\">02:00:00~02:59:59</th>\n",
       "      <th colspan=\"2\" halign=\"left\">03:00:00~03:59:59</th>\n",
       "      <th>작업일시</th>\n",
       "    </tr>\n",
       "    <tr>\n",
       "      <th></th>\n",
       "      <th>Unnamed: 0_level_1</th>\n",
       "      <th>Unnamed: 1_level_1</th>\n",
       "      <th>Unnamed: 2_level_1</th>\n",
       "      <th>Unnamed: 3_level_1</th>\n",
       "      <th>승차</th>\n",
       "      <th>하차</th>\n",
       "      <th>승차</th>\n",
       "      <th>하차</th>\n",
       "      <th>승차</th>\n",
       "      <th>하차</th>\n",
       "      <th>...</th>\n",
       "      <th>하차</th>\n",
       "      <th>승차</th>\n",
       "      <th>하차</th>\n",
       "      <th>승차</th>\n",
       "      <th>하차</th>\n",
       "      <th>승차</th>\n",
       "      <th>하차</th>\n",
       "      <th>승차</th>\n",
       "      <th>하차</th>\n",
       "      <th>Unnamed: 52_level_1</th>\n",
       "    </tr>\n",
       "  </thead>\n",
       "  <tbody>\n",
       "    <tr>\n",
       "      <th>0</th>\n",
       "      <td>2023-12</td>\n",
       "      <td>1호선</td>\n",
       "      <td>150</td>\n",
       "      <td>서울역</td>\n",
       "      <td>700</td>\n",
       "      <td>35</td>\n",
       "      <td>7,812</td>\n",
       "      <td>8,436</td>\n",
       "      <td>12,190</td>\n",
       "      <td>50,415</td>\n",
       "      <td>...</td>\n",
       "      <td>15,733</td>\n",
       "      <td>3,170</td>\n",
       "      <td>4,088</td>\n",
       "      <td>140</td>\n",
       "      <td>1,884</td>\n",
       "      <td>0</td>\n",
       "      <td>283</td>\n",
       "      <td>0</td>\n",
       "      <td>0</td>\n",
       "      <td>2024-01-03 09:18:08</td>\n",
       "    </tr>\n",
       "    <tr>\n",
       "      <th>1</th>\n",
       "      <td>2023-12</td>\n",
       "      <td>1호선</td>\n",
       "      <td>151</td>\n",
       "      <td>시청</td>\n",
       "      <td>73</td>\n",
       "      <td>1</td>\n",
       "      <td>2,208</td>\n",
       "      <td>4,356</td>\n",
       "      <td>3,731</td>\n",
       "      <td>21,903</td>\n",
       "      <td>...</td>\n",
       "      <td>5,965</td>\n",
       "      <td>4,290</td>\n",
       "      <td>1,523</td>\n",
       "      <td>1,053</td>\n",
       "      <td>383</td>\n",
       "      <td>0</td>\n",
       "      <td>10</td>\n",
       "      <td>0</td>\n",
       "      <td>0</td>\n",
       "      <td>2024-01-03 09:18:08</td>\n",
       "    </tr>\n",
       "    <tr>\n",
       "      <th>2</th>\n",
       "      <td>2023-12</td>\n",
       "      <td>1호선</td>\n",
       "      <td>152</td>\n",
       "      <td>종각</td>\n",
       "      <td>167</td>\n",
       "      <td>1</td>\n",
       "      <td>4,280</td>\n",
       "      <td>4,932</td>\n",
       "      <td>4,329</td>\n",
       "      <td>25,201</td>\n",
       "      <td>...</td>\n",
       "      <td>5,317</td>\n",
       "      <td>2,621</td>\n",
       "      <td>1,402</td>\n",
       "      <td>1,638</td>\n",
       "      <td>241</td>\n",
       "      <td>1</td>\n",
       "      <td>1</td>\n",
       "      <td>0</td>\n",
       "      <td>0</td>\n",
       "      <td>2024-01-03 09:18:08</td>\n",
       "    </tr>\n",
       "    <tr>\n",
       "      <th>3</th>\n",
       "      <td>2023-12</td>\n",
       "      <td>1호선</td>\n",
       "      <td>153</td>\n",
       "      <td>종로3가</td>\n",
       "      <td>230</td>\n",
       "      <td>16</td>\n",
       "      <td>4,174</td>\n",
       "      <td>2,538</td>\n",
       "      <td>3,621</td>\n",
       "      <td>11,378</td>\n",
       "      <td>...</td>\n",
       "      <td>7,655</td>\n",
       "      <td>7,239</td>\n",
       "      <td>2,844</td>\n",
       "      <td>917</td>\n",
       "      <td>422</td>\n",
       "      <td>0</td>\n",
       "      <td>1</td>\n",
       "      <td>0</td>\n",
       "      <td>0</td>\n",
       "      <td>2024-01-03 09:18:08</td>\n",
       "    </tr>\n",
       "    <tr>\n",
       "      <th>4</th>\n",
       "      <td>2023-12</td>\n",
       "      <td>1호선</td>\n",
       "      <td>154</td>\n",
       "      <td>종로5가</td>\n",
       "      <td>40</td>\n",
       "      <td>2</td>\n",
       "      <td>1,862</td>\n",
       "      <td>3,023</td>\n",
       "      <td>3,027</td>\n",
       "      <td>14,468</td>\n",
       "      <td>...</td>\n",
       "      <td>3,905</td>\n",
       "      <td>627</td>\n",
       "      <td>1,275</td>\n",
       "      <td>104</td>\n",
       "      <td>152</td>\n",
       "      <td>0</td>\n",
       "      <td>0</td>\n",
       "      <td>0</td>\n",
       "      <td>0</td>\n",
       "      <td>2024-01-03 09:18:08</td>\n",
       "    </tr>\n",
       "  </tbody>\n",
       "</table>\n",
       "<p>5 rows × 53 columns</p>\n",
       "</div>"
      ],
      "text/plain": [
       "                 사용월                호선명                역ID               지하철역  \\\n",
       "  Unnamed: 0_level_1 Unnamed: 1_level_1 Unnamed: 2_level_1 Unnamed: 3_level_1   \n",
       "0            2023-12                1호선                150                서울역   \n",
       "1            2023-12                1호선                151                 시청   \n",
       "2            2023-12                1호선                152                 종각   \n",
       "3            2023-12                1호선                153               종로3가   \n",
       "4            2023-12                1호선                154               종로5가   \n",
       "\n",
       "  04:00:00~04:59:59     05:00:00~05:59:59        06:00:00~06:59:59          \\\n",
       "                 승차  하차                승차     하차                승차      하차   \n",
       "0               700  35             7,812  8,436            12,190  50,415   \n",
       "1                73   1             2,208  4,356             3,731  21,903   \n",
       "2               167   1             4,280  4,932             4,329  25,201   \n",
       "3               230  16             4,174  2,538             3,621  11,378   \n",
       "4                40   2             1,862  3,023             3,027  14,468   \n",
       "\n",
       "   ... 23:00:00~23:59:59 00:00:00~00:59:59        01:00:00~01:59:59         \\\n",
       "   ...                하차                승차     하차                승차     하차   \n",
       "0  ...            15,733             3,170  4,088               140  1,884   \n",
       "1  ...             5,965             4,290  1,523             1,053    383   \n",
       "2  ...             5,317             2,621  1,402             1,638    241   \n",
       "3  ...             7,655             7,239  2,844               917    422   \n",
       "4  ...             3,905               627  1,275               104    152   \n",
       "\n",
       "  02:00:00~02:59:59      03:00:00~03:59:59                    작업일시  \n",
       "                 승차   하차                승차 하차  Unnamed: 52_level_1  \n",
       "0                 0  283                 0  0  2024-01-03 09:18:08  \n",
       "1                 0   10                 0  0  2024-01-03 09:18:08  \n",
       "2                 1    1                 0  0  2024-01-03 09:18:08  \n",
       "3                 0    1                 0  0  2024-01-03 09:18:08  \n",
       "4                 0    0                 0  0  2024-01-03 09:18:08  \n",
       "\n",
       "[5 rows x 53 columns]"
      ]
     },
     "execution_count": 97,
     "metadata": {},
     "output_type": "execute_result"
    }
   ],
   "source": [
    "df.head()"
   ]
  },
  {
   "cell_type": "code",
   "execution_count": 98,
   "metadata": {},
   "outputs": [
    {
     "data": {
      "text/plain": [
       "RangeIndex(start=0, stop=621, step=1)"
      ]
     },
     "execution_count": 98,
     "metadata": {},
     "output_type": "execute_result"
    }
   ],
   "source": [
    "df.index"
   ]
  },
  {
   "cell_type": "code",
   "execution_count": 99,
   "metadata": {},
   "outputs": [
    {
     "data": {
      "text/plain": [
       "MultiIndex([(              '사용월',  'Unnamed: 0_level_1'),\n",
       "            (              '호선명',  'Unnamed: 1_level_1'),\n",
       "            (              '역ID',  'Unnamed: 2_level_1'),\n",
       "            (             '지하철역',  'Unnamed: 3_level_1'),\n",
       "            ('04:00:00~04:59:59',                  '승차'),\n",
       "            ('04:00:00~04:59:59',                  '하차'),\n",
       "            ('05:00:00~05:59:59',                  '승차'),\n",
       "            ('05:00:00~05:59:59',                  '하차'),\n",
       "            ('06:00:00~06:59:59',                  '승차'),\n",
       "            ('06:00:00~06:59:59',                  '하차'),\n",
       "            ('07:00:00~07:59:59',                  '승차'),\n",
       "            ('07:00:00~07:59:59',                  '하차'),\n",
       "            ('08:00:00~08:59:59',                  '승차'),\n",
       "            ('08:00:00~08:59:59',                  '하차'),\n",
       "            ('09:00:00~09:59:59',                  '승차'),\n",
       "            ('09:00:00~09:59:59',                  '하차'),\n",
       "            ('10:00:00~10:59:59',                  '승차'),\n",
       "            ('10:00:00~10:59:59',                  '하차'),\n",
       "            ('11:00:00~11:59:59',                  '승차'),\n",
       "            ('11:00:00~11:59:59',                  '하차'),\n",
       "            ('12:00:00~12:59:59',                  '승차'),\n",
       "            ('12:00:00~12:59:59',                  '하차'),\n",
       "            ('13:00:00~13:59:59',                  '승차'),\n",
       "            ('13:00:00~13:59:59',                  '하차'),\n",
       "            ('14:00:00~14:59:59',                  '승차'),\n",
       "            ('14:00:00~14:59:59',                  '하차'),\n",
       "            ('15:00:00~15:59:59',                  '승차'),\n",
       "            ('15:00:00~15:59:59',                  '하차'),\n",
       "            ('16:00:00~16:59:59',                  '승차'),\n",
       "            ('16:00:00~16:59:59',                  '하차'),\n",
       "            ('17:00:00~17:59:59',                  '승차'),\n",
       "            ('17:00:00~17:59:59',                  '하차'),\n",
       "            ('18:00:00~18:59:59',                  '승차'),\n",
       "            ('18:00:00~18:59:59',                  '하차'),\n",
       "            ('19:00:00~19:59:59',                  '승차'),\n",
       "            ('19:00:00~19:59:59',                  '하차'),\n",
       "            ('20:00:00~20:59:59',                  '승차'),\n",
       "            ('20:00:00~20:59:59',                  '하차'),\n",
       "            ('21:00:00~21:59:59',                  '승차'),\n",
       "            ('21:00:00~21:59:59',                  '하차'),\n",
       "            ('22:00:00~22:59:59',                  '승차'),\n",
       "            ('22:00:00~22:59:59',                  '하차'),\n",
       "            ('23:00:00~23:59:59',                  '승차'),\n",
       "            ('23:00:00~23:59:59',                  '하차'),\n",
       "            ('00:00:00~00:59:59',                  '승차'),\n",
       "            ('00:00:00~00:59:59',                  '하차'),\n",
       "            ('01:00:00~01:59:59',                  '승차'),\n",
       "            ('01:00:00~01:59:59',                  '하차'),\n",
       "            ('02:00:00~02:59:59',                  '승차'),\n",
       "            ('02:00:00~02:59:59',                  '하차'),\n",
       "            ('03:00:00~03:59:59',                  '승차'),\n",
       "            ('03:00:00~03:59:59',                  '하차'),\n",
       "            (             '작업일시', 'Unnamed: 52_level_1')],\n",
       "           )"
      ]
     },
     "execution_count": 99,
     "metadata": {},
     "output_type": "execute_result"
    }
   ],
   "source": [
    "df.columns"
   ]
  },
  {
   "cell_type": "code",
   "execution_count": 100,
   "metadata": {},
   "outputs": [
    {
     "data": {
      "text/plain": [
       "0           서울역\n",
       "1            시청\n",
       "2            종각\n",
       "3          종로3가\n",
       "4          종로5가\n",
       "         ...   \n",
       "616          당곡\n",
       "617          신림\n",
       "618          서원\n",
       "619     서울대벤처타운\n",
       "620    관악산(서울대)\n",
       "Name: (지하철역, Unnamed: 3_level_1), Length: 621, dtype: object"
      ]
     },
     "execution_count": 100,
     "metadata": {},
     "output_type": "execute_result"
    }
   ],
   "source": [
    "df[('지하철역',  'Unnamed: 3_level_1')]"
   ]
  },
  {
   "cell_type": "code",
   "execution_count": 101,
   "metadata": {},
   "outputs": [
    {
     "data": {
      "text/html": [
       "<div>\n",
       "<style scoped>\n",
       "    .dataframe tbody tr th:only-of-type {\n",
       "        vertical-align: middle;\n",
       "    }\n",
       "\n",
       "    .dataframe tbody tr th {\n",
       "        vertical-align: top;\n",
       "    }\n",
       "\n",
       "    .dataframe thead tr th {\n",
       "        text-align: left;\n",
       "    }\n",
       "</style>\n",
       "<table border=\"1\" class=\"dataframe\">\n",
       "  <thead>\n",
       "    <tr>\n",
       "      <th></th>\n",
       "      <th>호선명</th>\n",
       "      <th>지하철역</th>\n",
       "      <th>07:00:00~07:59:59</th>\n",
       "      <th>08:00:00~08:59:59</th>\n",
       "      <th>09:00:00~09:59:59</th>\n",
       "    </tr>\n",
       "    <tr>\n",
       "      <th></th>\n",
       "      <th>Unnamed: 1_level_1</th>\n",
       "      <th>Unnamed: 3_level_1</th>\n",
       "      <th>승차</th>\n",
       "      <th>승차</th>\n",
       "      <th>승차</th>\n",
       "    </tr>\n",
       "  </thead>\n",
       "  <tbody>\n",
       "    <tr>\n",
       "      <th>0</th>\n",
       "      <td>1호선</td>\n",
       "      <td>서울역</td>\n",
       "      <td>37,075</td>\n",
       "      <td>68,020</td>\n",
       "      <td>67,218</td>\n",
       "    </tr>\n",
       "    <tr>\n",
       "      <th>1</th>\n",
       "      <td>1호선</td>\n",
       "      <td>시청</td>\n",
       "      <td>7,341</td>\n",
       "      <td>9,896</td>\n",
       "      <td>13,154</td>\n",
       "    </tr>\n",
       "    <tr>\n",
       "      <th>2</th>\n",
       "      <td>1호선</td>\n",
       "      <td>종각</td>\n",
       "      <td>6,459</td>\n",
       "      <td>10,114</td>\n",
       "      <td>12,834</td>\n",
       "    </tr>\n",
       "    <tr>\n",
       "      <th>3</th>\n",
       "      <td>1호선</td>\n",
       "      <td>종로3가</td>\n",
       "      <td>5,454</td>\n",
       "      <td>8,475</td>\n",
       "      <td>12,940</td>\n",
       "    </tr>\n",
       "    <tr>\n",
       "      <th>4</th>\n",
       "      <td>1호선</td>\n",
       "      <td>종로5가</td>\n",
       "      <td>5,753</td>\n",
       "      <td>9,099</td>\n",
       "      <td>13,585</td>\n",
       "    </tr>\n",
       "  </tbody>\n",
       "</table>\n",
       "</div>"
      ],
      "text/plain": [
       "                 호선명               지하철역 07:00:00~07:59:59 08:00:00~08:59:59  \\\n",
       "  Unnamed: 1_level_1 Unnamed: 3_level_1                승차                승차   \n",
       "0                1호선                서울역            37,075            68,020   \n",
       "1                1호선                 시청             7,341             9,896   \n",
       "2                1호선                 종각             6,459            10,114   \n",
       "3                1호선               종로3가             5,454             8,475   \n",
       "4                1호선               종로5가             5,753             9,099   \n",
       "\n",
       "  09:00:00~09:59:59  \n",
       "                 승차  \n",
       "0            67,218  \n",
       "1            13,154  \n",
       "2            12,834  \n",
       "3            12,940  \n",
       "4            13,585  "
      ]
     },
     "execution_count": 101,
     "metadata": {},
     "output_type": "execute_result"
    }
   ],
   "source": [
    "commute_time_df = df.iloc[:, [1, 3, 10, 12, 14]]\n",
    "commute_time_df.head()"
   ]
  },
  {
   "cell_type": "code",
   "execution_count": 102,
   "metadata": {},
   "outputs": [
    {
     "data": {
      "text/plain": [
       "호선명                Unnamed: 1_level_1    object\n",
       "지하철역               Unnamed: 3_level_1    object\n",
       "07:00:00~07:59:59  승차                    object\n",
       "08:00:00~08:59:59  승차                    object\n",
       "09:00:00~09:59:59  승차                    object\n",
       "dtype: object"
      ]
     },
     "execution_count": 102,
     "metadata": {},
     "output_type": "execute_result"
    }
   ],
   "source": [
    "commute_time_df.dtypes"
   ]
  },
  {
   "cell_type": "code",
   "execution_count": 103,
   "metadata": {},
   "outputs": [
    {
     "name": "stderr",
     "output_type": "stream",
     "text": [
      "C:\\Users\\xnnly\\AppData\\Local\\Temp\\ipykernel_11924\\663406679.py:1: SettingWithCopyWarning: \n",
      "A value is trying to be set on a copy of a slice from a DataFrame.\n",
      "Try using .loc[row_indexer,col_indexer] = value instead\n",
      "\n",
      "See the caveats in the documentation: https://pandas.pydata.org/pandas-docs/stable/user_guide/indexing.html#returning-a-view-versus-a-copy\n",
      "  commute_time_df[('07:00:00~07:59:59', '승차')] = commute_time_df[('07:00:00~07:59:59', '승차')].apply(lambda x : x.replace(',', ''))\n",
      "C:\\Users\\xnnly\\AppData\\Local\\Temp\\ipykernel_11924\\663406679.py:2: SettingWithCopyWarning: \n",
      "A value is trying to be set on a copy of a slice from a DataFrame.\n",
      "Try using .loc[row_indexer,col_indexer] = value instead\n",
      "\n",
      "See the caveats in the documentation: https://pandas.pydata.org/pandas-docs/stable/user_guide/indexing.html#returning-a-view-versus-a-copy\n",
      "  commute_time_df[('08:00:00~08:59:59', '승차')] = commute_time_df[('08:00:00~08:59:59', '승차')].apply(lambda x : x.replace(',', ''))\n",
      "C:\\Users\\xnnly\\AppData\\Local\\Temp\\ipykernel_11924\\663406679.py:3: SettingWithCopyWarning: \n",
      "A value is trying to be set on a copy of a slice from a DataFrame.\n",
      "Try using .loc[row_indexer,col_indexer] = value instead\n",
      "\n",
      "See the caveats in the documentation: https://pandas.pydata.org/pandas-docs/stable/user_guide/indexing.html#returning-a-view-versus-a-copy\n",
      "  commute_time_df[('09:00:00~09:59:59', '승차')] = commute_time_df[('09:00:00~09:59:59', '승차')].apply(lambda x : x.replace(',', ''))\n"
     ]
    }
   ],
   "source": [
    "commute_time_df[('07:00:00~07:59:59', '승차')] = commute_time_df[('07:00:00~07:59:59', '승차')].apply(lambda x : x.replace(',', ''))\n",
    "commute_time_df[('08:00:00~08:59:59', '승차')] = commute_time_df[('08:00:00~08:59:59', '승차')].apply(lambda x : x.replace(',', ''))\n",
    "commute_time_df[('09:00:00~09:59:59', '승차')] = commute_time_df[('09:00:00~09:59:59', '승차')].apply(lambda x : x.replace(',', ''))"
   ]
  },
  {
   "cell_type": "code",
   "execution_count": 104,
   "metadata": {},
   "outputs": [
    {
     "data": {
      "text/html": [
       "<div>\n",
       "<style scoped>\n",
       "    .dataframe tbody tr th:only-of-type {\n",
       "        vertical-align: middle;\n",
       "    }\n",
       "\n",
       "    .dataframe tbody tr th {\n",
       "        vertical-align: top;\n",
       "    }\n",
       "\n",
       "    .dataframe thead tr th {\n",
       "        text-align: left;\n",
       "    }\n",
       "</style>\n",
       "<table border=\"1\" class=\"dataframe\">\n",
       "  <thead>\n",
       "    <tr>\n",
       "      <th></th>\n",
       "      <th>호선명</th>\n",
       "      <th>지하철역</th>\n",
       "      <th>07:00:00~07:59:59</th>\n",
       "      <th>08:00:00~08:59:59</th>\n",
       "      <th>09:00:00~09:59:59</th>\n",
       "    </tr>\n",
       "    <tr>\n",
       "      <th></th>\n",
       "      <th>Unnamed: 1_level_1</th>\n",
       "      <th>Unnamed: 3_level_1</th>\n",
       "      <th>승차</th>\n",
       "      <th>승차</th>\n",
       "      <th>승차</th>\n",
       "    </tr>\n",
       "  </thead>\n",
       "  <tbody>\n",
       "    <tr>\n",
       "      <th>0</th>\n",
       "      <td>1호선</td>\n",
       "      <td>서울역</td>\n",
       "      <td>37075</td>\n",
       "      <td>68020</td>\n",
       "      <td>67218</td>\n",
       "    </tr>\n",
       "    <tr>\n",
       "      <th>1</th>\n",
       "      <td>1호선</td>\n",
       "      <td>시청</td>\n",
       "      <td>7341</td>\n",
       "      <td>9896</td>\n",
       "      <td>13154</td>\n",
       "    </tr>\n",
       "    <tr>\n",
       "      <th>2</th>\n",
       "      <td>1호선</td>\n",
       "      <td>종각</td>\n",
       "      <td>6459</td>\n",
       "      <td>10114</td>\n",
       "      <td>12834</td>\n",
       "    </tr>\n",
       "    <tr>\n",
       "      <th>3</th>\n",
       "      <td>1호선</td>\n",
       "      <td>종로3가</td>\n",
       "      <td>5454</td>\n",
       "      <td>8475</td>\n",
       "      <td>12940</td>\n",
       "    </tr>\n",
       "    <tr>\n",
       "      <th>4</th>\n",
       "      <td>1호선</td>\n",
       "      <td>종로5가</td>\n",
       "      <td>5753</td>\n",
       "      <td>9099</td>\n",
       "      <td>13585</td>\n",
       "    </tr>\n",
       "    <tr>\n",
       "      <th>...</th>\n",
       "      <td>...</td>\n",
       "      <td>...</td>\n",
       "      <td>...</td>\n",
       "      <td>...</td>\n",
       "      <td>...</td>\n",
       "    </tr>\n",
       "    <tr>\n",
       "      <th>616</th>\n",
       "      <td>신림선</td>\n",
       "      <td>당곡</td>\n",
       "      <td>12279</td>\n",
       "      <td>18186</td>\n",
       "      <td>12338</td>\n",
       "    </tr>\n",
       "    <tr>\n",
       "      <th>617</th>\n",
       "      <td>신림선</td>\n",
       "      <td>신림</td>\n",
       "      <td>3998</td>\n",
       "      <td>6445</td>\n",
       "      <td>4063</td>\n",
       "    </tr>\n",
       "    <tr>\n",
       "      <th>618</th>\n",
       "      <td>신림선</td>\n",
       "      <td>서원</td>\n",
       "      <td>12908</td>\n",
       "      <td>18897</td>\n",
       "      <td>12105</td>\n",
       "    </tr>\n",
       "    <tr>\n",
       "      <th>619</th>\n",
       "      <td>신림선</td>\n",
       "      <td>서울대벤처타운</td>\n",
       "      <td>28046</td>\n",
       "      <td>42529</td>\n",
       "      <td>26097</td>\n",
       "    </tr>\n",
       "    <tr>\n",
       "      <th>620</th>\n",
       "      <td>신림선</td>\n",
       "      <td>관악산(서울대)</td>\n",
       "      <td>5101</td>\n",
       "      <td>5969</td>\n",
       "      <td>3877</td>\n",
       "    </tr>\n",
       "  </tbody>\n",
       "</table>\n",
       "<p>621 rows × 5 columns</p>\n",
       "</div>"
      ],
      "text/plain": [
       "                   호선명               지하철역 07:00:00~07:59:59 08:00:00~08:59:59  \\\n",
       "    Unnamed: 1_level_1 Unnamed: 3_level_1                승차                승차   \n",
       "0                  1호선                서울역             37075             68020   \n",
       "1                  1호선                 시청              7341              9896   \n",
       "2                  1호선                 종각              6459             10114   \n",
       "3                  1호선               종로3가              5454              8475   \n",
       "4                  1호선               종로5가              5753              9099   \n",
       "..                 ...                ...               ...               ...   \n",
       "616                신림선                 당곡             12279             18186   \n",
       "617                신림선                 신림              3998              6445   \n",
       "618                신림선                 서원             12908             18897   \n",
       "619                신림선            서울대벤처타운             28046             42529   \n",
       "620                신림선           관악산(서울대)              5101              5969   \n",
       "\n",
       "    09:00:00~09:59:59  \n",
       "                   승차  \n",
       "0               67218  \n",
       "1               13154  \n",
       "2               12834  \n",
       "3               12940  \n",
       "4               13585  \n",
       "..                ...  \n",
       "616             12338  \n",
       "617              4063  \n",
       "618             12105  \n",
       "619             26097  \n",
       "620              3877  \n",
       "\n",
       "[621 rows x 5 columns]"
      ]
     },
     "execution_count": 104,
     "metadata": {},
     "output_type": "execute_result"
    }
   ],
   "source": [
    "commute_time_df"
   ]
  },
  {
   "cell_type": "code",
   "execution_count": 105,
   "metadata": {},
   "outputs": [],
   "source": [
    "commute_time_df = commute_time_df.astype({('07:00:00~07:59:59', '승차') : 'int64'})\n",
    "commute_time_df = commute_time_df.astype({('08:00:00~08:59:59', '승차') : 'int64'})\n",
    "commute_time_df = commute_time_df.astype({('09:00:00~09:59:59', '승차') : 'int64'})"
   ]
  },
  {
   "cell_type": "code",
   "execution_count": 106,
   "metadata": {},
   "outputs": [
    {
     "data": {
      "text/plain": [
       "0      172313\n",
       "1       30391\n",
       "2       29407\n",
       "3       26869\n",
       "4       28437\n",
       "        ...  \n",
       "616     42803\n",
       "617     14506\n",
       "618     43910\n",
       "619     96672\n",
       "620     14947\n",
       "Length: 621, dtype: int64"
      ]
     },
     "execution_count": 106,
     "metadata": {},
     "output_type": "execute_result"
    }
   ],
   "source": [
    "row_sum_df = commute_time_df.sum(axis = 1, numeric_only = True)\n",
    "passenger_number_list = row_sum_df.to_list()\n",
    "row_sum_df"
   ]
  },
  {
   "cell_type": "code",
   "execution_count": 107,
   "metadata": {},
   "outputs": [
    {
     "data": {
      "text/plain": [
       "576994"
      ]
     },
     "execution_count": 107,
     "metadata": {},
     "output_type": "execute_result"
    }
   ],
   "source": [
    "max_number = row_sum_df.max(axis = 0)\n",
    "max_number"
   ]
  },
  {
   "cell_type": "code",
   "execution_count": 108,
   "metadata": {},
   "outputs": [
    {
     "name": "stdout",
     "output_type": "stream",
     "text": [
      "출근 시간대 최대 승차 인원역 : 2호선 신림 576,994명\n"
     ]
    }
   ],
   "source": [
    "max_index = row_sum_df.idxmax()\n",
    "max_line, max_station = df.iloc[max_index, [1, 3]]  # 최대값의 [1] : 호선, [3] : 지하철역명\n",
    "print('출근 시간대 최대 승차 인원역 : {0} {1} {2:,}명'.format(max_line, max_station, max_number))"
   ]
  },
  {
   "cell_type": "code",
   "execution_count": 109,
   "metadata": {},
   "outputs": [
    {
     "data": {
      "image/png": "[encoded data removed]",
      "text/plain": [
       "<Figure size 640x480 with 1 Axes>"
      ]
     },
     "metadata": {},
     "output_type": "display_data"
    }
   ],
   "source": [
    "passenger_number_list.sort(reverse = True)\n",
    "plt.figure(dpi = 100)\n",
    "plt.bar(range(len(passenger_number_list)), passenger_number_list)\n",
    "plt.show()"
   ]
  }
 ],
 "metadata": {
  "kernelspec": {
   "display_name": "TEST",
   "language": "python",
   "name": "python3"
  },
  "language_info": {
   "codemirror_mode": {
    "name": "ipython",
    "version": 3
   },
   "file_extension": ".py",
   "mimetype": "text/x-python",
   "name": "python",
   "nbconvert_exporter": "python",
   "pygments_lexer": "ipython3",
   "version": "3.9.18"
  }
 },
 "nbformat": 4,
 "nbformat_minor": 2
}
