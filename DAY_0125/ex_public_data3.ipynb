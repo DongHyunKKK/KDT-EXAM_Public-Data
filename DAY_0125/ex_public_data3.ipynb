{
 "cells": [
  {
   "cell_type": "markdown",
   "metadata": {},
   "source": [
    "## 대중 교통 데이터"
   ]
  },
  {
   "cell_type": "code",
   "execution_count": 1,
   "metadata": {},
   "outputs": [],
   "source": [
    "import pandas as pd\n",
    "import numpy as np\n",
    "import csv\n",
    "\n",
    "import matplotlib as mpl\n",
    "import matplotlib.pyplot as plt\n",
    "import matplotlib.font_manager as fm"
   ]
  },
  {
   "cell_type": "code",
   "execution_count": 2,
   "metadata": {},
   "outputs": [],
   "source": [
    "# 폰트 파일의 경로 지정\n",
    "font_path = r'C:\\Windows\\Fonts\\gulim.ttc'"
   ]
  },
  {
   "cell_type": "code",
   "execution_count": 3,
   "metadata": {},
   "outputs": [],
   "source": [
    "# matplotlib 패키지에 한글 폰트 설정\n",
    "myFont = fm.FontProperties(fname = font_path).get_name()\n",
    "mpl.rc('font', family = myFont)"
   ]
  },
  {
   "cell_type": "code",
   "execution_count": 4,
   "metadata": {},
   "outputs": [],
   "source": [
    "# 한글 폰트 사용시 레이블의 '-' 기호 깨지는 현상 해결\n",
    "plt.rc('axes', unicode_minus = False)  # plt.rcParams['axes.unicode_minus'] = False와 동일"
   ]
  },
  {
   "cell_type": "code",
   "execution_count": 5,
   "metadata": {},
   "outputs": [],
   "source": [
    "data_file = '../DATA/subwayfee.csv'"
   ]
  },
  {
   "cell_type": "markdown",
   "metadata": {},
   "source": [
    "### 대중교통 데이터 읽어오기 <hr>"
   ]
  },
  {
   "cell_type": "code",
   "execution_count": 6,
   "metadata": {},
   "outputs": [
    {
     "name": "stdout",
     "output_type": "stream",
     "text": [
      "['사용월', '호선명', '역ID', '지하철역', '유임승차', '유임하차', '무임승차', '무임하차']\n",
      "['23.Dec', '1호선', '150', '서울역', '1442704', '1404121', '211843', '203808']\n",
      "['23.Dec', '1호선', '151', '시청', '696784', '684254', '99882', '98107']\n",
      "['23.Dec', '1호선', '152', '종각', '1010849', '985165', '162696', '152064']\n",
      "['23.Dec', '1호선', '153', '종로3가', '488467', '450427', '310689', '286850']\n",
      "['23.Dec', '1호선', '154', '종로5가', '483866', '476917', '246504', '239266']\n",
      "['23.Dec', '1호선', '155', '동대문', '236114', '228110', '128542', '127639']\n"
     ]
    }
   ],
   "source": [
    "f = open(data_file, encoding = 'utf-8-sig')\n",
    "\n",
    "data = csv.reader(f)\n",
    "header = next(data)\n",
    "print(header)\n",
    "\n",
    "i = 1\n",
    "for row in data:\n",
    "    print(row)\n",
    "    if i > 5:\n",
    "        break\n",
    "    i += 1\n",
    "f.close()"
   ]
  },
  {
   "cell_type": "markdown",
   "metadata": {},
   "source": [
    "### 전체 탑승 인원 대비 유임 승차 비율이 가장 높은 역은? <hr>\n",
    "- 유임 승차 대 무임 승차 비율 (rate) 계산 => rate = 유임 승차 인원/ 무임 승차 인원"
   ]
  },
  {
   "cell_type": "code",
   "execution_count": 7,
   "metadata": {},
   "outputs": [
    {
     "ename": "ZeroDivisionError",
     "evalue": "division by zero",
     "output_type": "error",
     "traceback": [
      "\u001b[1;31m---------------------------------------------------------------------------\u001b[0m",
      "\u001b[1;31mZeroDivisionError\u001b[0m                         Traceback (most recent call last)",
      "Cell \u001b[1;32mIn[7], line 10\u001b[0m\n\u001b[0;32m      8\u001b[0m \u001b[38;5;28;01mfor\u001b[39;00m i \u001b[38;5;129;01min\u001b[39;00m \u001b[38;5;28mrange\u001b[39m(\u001b[38;5;241m4\u001b[39m, \u001b[38;5;241m8\u001b[39m):\n\u001b[0;32m      9\u001b[0m     row[i] \u001b[38;5;241m=\u001b[39m \u001b[38;5;28mint\u001b[39m(row[i])\n\u001b[1;32m---> 10\u001b[0m rate \u001b[38;5;241m=\u001b[39m \u001b[43mrow\u001b[49m\u001b[43m[\u001b[49m\u001b[38;5;241;43m4\u001b[39;49m\u001b[43m]\u001b[49m\u001b[43m \u001b[49m\u001b[38;5;241;43m/\u001b[39;49m\u001b[43m \u001b[49m\u001b[43mrow\u001b[49m\u001b[43m[\u001b[49m\u001b[38;5;241;43m6\u001b[39;49m\u001b[43m]\u001b[49m\n\u001b[0;32m     11\u001b[0m \u001b[38;5;28;01mif\u001b[39;00m rate \u001b[38;5;241m>\u001b[39m max_rate:\n\u001b[0;32m     12\u001b[0m     max_rate \u001b[38;5;241m=\u001b[39m rate\n",
      "\u001b[1;31mZeroDivisionError\u001b[0m: division by zero"
     ]
    }
   ],
   "source": [
    "f = open(data_file, encoding = 'utf-8-sig')\n",
    "data = csv.reader(f)\n",
    "header = next(data)\n",
    "max_rate = 0\n",
    "rate = 0\n",
    "\n",
    "for row in data:\n",
    "    for i in range(4, 8):\n",
    "        row[i] = int(row[i])\n",
    "    rate = row[4] / row[6]  # row[6]의 값이 0인 역이 있다.\n",
    "    if rate > max_rate:\n",
    "        max_rate = rate\n",
    "\n",
    "print(max_rate)\n",
    "f.close()"
   ]
  },
  {
   "cell_type": "markdown",
   "metadata": {},
   "source": [
    "### 무임승차 인원이 0인 역 찾기 <hr>"
   ]
  },
  {
   "cell_type": "code",
   "execution_count": 8,
   "metadata": {},
   "outputs": [
    {
     "name": "stdout",
     "output_type": "stream",
     "text": [
      "['23.Dec', '일산선', '1949', '지축', 8, 0, 0, 0]\n",
      "['23.Dec', '경의선', '1295', '김포공항', 1, 0, 0, 0]\n",
      "['23.Dec', '6호선', '2649', '신내', 10, 0, 0, 0]\n",
      "['23.Dec', '7호선', '2755', '춘의', 1, 0, 0, 0]\n",
      "['23.Dec', '7호선', '2756', '신중동', 1, 0, 0, 0]\n",
      "['23.Dec', '7호선', '2760', '굴포천', 1, 0, 0, 0]\n"
     ]
    }
   ],
   "source": [
    "f = open(data_file, encoding = 'utf-8-sig')\n",
    "data = csv.reader(f)\n",
    "header = next(data)\n",
    "rate = 0\n",
    "\n",
    "for row in data:\n",
    "    for i in range(4, 8):\n",
    "        row[i] = int(row[i])  # 4, 5, 6, 7 컬럼 값을 정수로 변환\n",
    "    rate = row[4] / (row[4] + row[6])\n",
    "\n",
    "    if row[6] == 0:  # 무임승차 인원[6]이 없는 역 출력\n",
    "        print(row)"
   ]
  },
  {
   "cell_type": "markdown",
   "metadata": {},
   "source": [
    "### 최대 무임 승차 비율 확인 <hr>"
   ]
  },
  {
   "cell_type": "code",
   "execution_count": 9,
   "metadata": {},
   "outputs": [
    {
     "name": "stdout",
     "output_type": "stream",
     "text": [
      "['23.Dec', '1호선', '150', '서울역', 1442704, 1404121, 211843, 203808] 12.8 %\n",
      "['23.Dec', '1호선', '152', '종각', 1010849, 985165, 162696, 152064] 13.86 %\n",
      "['23.Dec', '1호선', '153', '종로3가', 488467, 450427, 310689, 286850] 38.88 %\n",
      "['23.Dec', '1호선', '157', '제기동', 231358, 219338, 256218, 272510] 52.55 %\n",
      "['23.Dec', '경원선', '1916', '소요산', 22856, 19642, 40555, 37554] 63.96 %\n",
      "['23.Dec', '경원선', '1919', '연천', 10626, 10601, 20838, 21191] 66.23 %\n"
     ]
    }
   ],
   "source": [
    "f = open(data_file, encoding = 'utf-8-sig')\n",
    "data = csv.reader(f)\n",
    "header = next(data)\n",
    "max_rate = 0\n",
    "for row in data:\n",
    "    for i in range(4, 8):\n",
    "        row[i] = int(row[i])\n",
    "    if row[6] != 0:\n",
    "        # 무임 승차(%) = (무임 승차 수 x 100) / (유임 승차 수 + 무임 승차 수)\n",
    "        rate = (row[6] * 100) / (row[4] + row[6])\n",
    "        if rate > max_rate:\n",
    "            max_rate = rate\n",
    "            print(row, round(rate, 2), '%')\n",
    "f.close()"
   ]
  },
  {
   "cell_type": "markdown",
   "metadata": {},
   "source": [
    "### 최대 유임 승차 비율 찾기 <hr>"
   ]
  },
  {
   "cell_type": "code",
   "execution_count": 24,
   "metadata": {},
   "outputs": [
    {
     "name": "stdout",
     "output_type": "stream",
     "text": [
      "['23.Dec', '일산선', '1949', '지축', 8, 0, 0, 0]\n",
      "['23.Dec', '경의선', '1295', '김포공항', 1, 0, 0, 0]\n",
      "['23.Dec', '6호선', '2649', '신내', 10, 0, 0, 0]\n",
      "['23.Dec', '7호선', '2755', '춘의', 1, 0, 0, 0]\n",
      "['23.Dec', '7호선', '2756', '신중동', 1, 0, 0, 0]\n",
      "['23.Dec', '7호선', '2760', '굴포천', 1, 0, 0, 0]\n",
      "100.0\n"
     ]
    }
   ],
   "source": [
    "f = open(file, encoding = 'utf-8-sig')\n",
    "\n",
    "data = csv.reader(f)\n",
    "header = next(data)\n",
    "max_rate = 0\n",
    "rate = 0\n",
    "\n",
    "for row in data:\n",
    "    for i in range(4, 8):\n",
    "        row[i] = int(row[i])  # 4, 5, 6, 7 컬럼 값을 정수로 변환\n",
    "    rate = (row[4]*100) / (row[4] + row[6])\n",
    "    if rate > max_rate:\n",
    "        max_rate = rate\n",
    "    \n",
    "    if row[6] == 0:\n",
    "        print(row)\n",
    "\n",
    "print(max_rate)\n",
    "f.close()"
   ]
  },
  {
   "cell_type": "code",
   "execution_count": 17,
   "metadata": {},
   "outputs": [
    {
     "name": "stdout",
     "output_type": "stream",
     "text": [
      "['23.Dec', '1호선', '150', '서울역', 1442704, 1404121, 211843, 203808] 12.8 %\n",
      "['23.Dec', '1호선', '152', '종각', 1010849, 985165, 162696, 152064] 13.86 %\n",
      "['23.Dec', '1호선', '153', '종로3가', 488467, 450427, 310689, 286850] 38.88 %\n",
      "['23.Dec', '1호선', '157', '제기동', 231358, 219338, 256218, 272510] 52.55 %\n",
      "['23.Dec', '경원선', '1916', '소요산', 22856, 19642, 40555, 37554] 63.96 %\n",
      "['23.Dec', '경원선', '1919', '연천', 10626, 10601, 20838, 21191] 66.23 %\n"
     ]
    }
   ],
   "source": [
    "f = open(data_file, encoding = 'utf-8-sig')\n",
    "\n",
    "data = csv.reader(f)\n",
    "header = next(data)\n",
    "max_rate = 0\n",
    "rate = 0\n",
    "\n",
    "for row in data:\n",
    "    for i in range(4, 8):\n",
    "        row[i] = int(row[i])\n",
    "    if row[6] != 0:\n",
    "        rate = (row[6] * 100) / (row[4] + row[6])\n",
    "        if rate > max_rate:\n",
    "            max_rate = rate\n",
    "            print(row, round(rate, 2), '%')\n",
    "    \n",
    "f.close()"
   ]
  },
  {
   "cell_type": "markdown",
   "metadata": {},
   "source": [
    "#### 최대 유임 승차 인원이 있는 역"
   ]
  },
  {
   "cell_type": "code",
   "execution_count": 27,
   "metadata": {},
   "outputs": [
    {
     "name": "stdout",
     "output_type": "stream",
     "text": [
      "\n",
      "호선명 : 공항철도 1호선, 역이름 : 홍대입구, 전체 인원 : 464662명, 유임승차인원 : 444,277명, 유임승차 비율 : 95.61%\n"
     ]
    }
   ],
   "source": [
    "f = open(file, encoding = 'utf-8-sig')\n",
    "data = csv.reader(f)\n",
    "next(data)\n",
    "\n",
    "max_rate = 0\n",
    "max_row = []\n",
    "max_total_num = 0\n",
    "\n",
    "for row in data:\n",
    "    for i in range(4, 8):\n",
    "        row[i] = int(row[i])\n",
    "    total_count = row[4] + row[6]\n",
    "    if (row[6] != 0) and (total_count > 100000):\n",
    "        rate = row[4] / total_count\n",
    "        if rate > max_rate:\n",
    "            max_rate = rate\n",
    "            max_row = row\n",
    "            max_total_num = total_count\n",
    "\n",
    "print()\n",
    "print(f'호선명 : {max_row[1]}, 역이름 : {max_row[3]}, 전체 인원 : {max_total_num}명, '\n",
    "      f'유임승차인원 : {max_row[4]:,}명, 유임승차 비율 : {round(max_rate * 100, 2)}%')"
   ]
  },
  {
   "cell_type": "markdown",
   "metadata": {},
   "source": [
    "#### 유임 승차 비율이 50% 이하인 역 "
   ]
  },
  {
   "cell_type": "code",
   "execution_count": 31,
   "metadata": {},
   "outputs": [
    {
     "name": "stdout",
     "output_type": "stream",
     "text": [
      "['사용월', '호선명', '역ID', '지하철역', '유임승차', '유임하차', '무임승차', '무임하차']\n",
      "['23.Dec', '1호선', '157', '제기동', 231358, '219338', 256218, '272510'] 0.47\n",
      "['23.Dec', '1호선', '159', '동묘앞', 144443, '150931', 146515, '148571'] 0.5\n",
      "['23.Dec', '경원선', '1916', '소요산', 22856, '19642', 40555, '37554'] 0.36\n",
      "['23.Dec', '경원선', '1919', '연천', 10626, '10601', 20838, '21191'] 0.34\n",
      "['23.Dec', '중앙선', '1218', '원덕', 4951, '4673', 5471, '5273'] 0.48\n",
      "\n",
      "유임 승차 비율이 가장 낮은 역 : 연천\n",
      "전체 인원 : 31,464명, 유임승차인원 : 10,626명, 유임승차비율 : 33.8%\n"
     ]
    },
    {
     "data": {
      "image/png": "[encoded data removed]",
      "text/plain": [
       "<Figure size 640x480 with 1 Axes>"
      ]
     },
     "metadata": {},
     "output_type": "display_data"
    }
   ],
   "source": [
    "f = open(data_file, encoding = 'utf-8-sig')\n",
    "data = csv.reader(f)\n",
    "header = next(data)\n",
    "print(header)\n",
    "\n",
    "min_rate = 100\n",
    "min_row = []\n",
    "min_total_count = 0\n",
    "\n",
    "for row in data:\n",
    "    for i in [4, 6]:\n",
    "        row[i] = int(row[i])\n",
    "    total_count = row[4] + row[6]\n",
    "    # 무임승차 인원이 없고, 총 승차인원이 1만명 이상\n",
    "    if (row[6] != 0) and (total_count >= 10000):\n",
    "        rate = row[4] / total_count\n",
    "        if rate <= 0.5:\n",
    "            print(row, round(rate, 2))\n",
    "            if rate < min_rate:\n",
    "                min_rate = rate\n",
    "                min_row = row\n",
    "                min_total_count = total_count\n",
    "f.close()\n",
    "\n",
    "print()\n",
    "print(f'유임 승차 비율이 가장 낮은 역 : {min_row[3]}')\n",
    "print(f'전체 인원 : {min_total_count:,}명, '\n",
    "      f'유임승차인원 : {min_row[4]:,}명, '\n",
    "      f'유임승차비율 : {round(min_rate*100, 1)}%')\n",
    "\n",
    "\n",
    "plt.title(min_row[3] + '역 유,무임 승차 비율')\n",
    "label = ['유임승차', '무임승차']\n",
    "values = [min_row[4], min_row[6]]\n",
    "plt.pie(values, labels = label, autopct = '%.1f%%')  # 데이터를 넣으면 비율은 함수가 알아서 계산\n",
    "plt.legend(loc = 2)\n",
    "plt.show()"
   ]
  },
  {
   "cell_type": "markdown",
   "metadata": {},
   "source": [
    "#### 모든 역의 유임 승차, 유임 하차, 무임 승차,무임 하차 원인 분석"
   ]
  },
  {
   "cell_type": "code",
   "execution_count": 34,
   "metadata": {},
   "outputs": [
    {
     "name": "stdout",
     "output_type": "stream",
     "text": [
      "유임승차 : 잠실(송파구청) 2호선 2,407,622명\n",
      "유임하차 : 잠실(송파구청) 2호선 2,389,008명\n",
      "무임승차 : 종로3가 1호선 310,689명\n",
      "무임하차 : 영등포 경부선 307,586명\n"
     ]
    }
   ],
   "source": [
    "max = [0] * 4\n",
    "max_station = [''] * 4\n",
    "label = ['유임승차', '유임하차', '무임승차', '무임하차']\n",
    "\n",
    "# with 구문 : 자동으로 파일을 close()시킴\n",
    "with open(data_file, encoding = 'utf-8-sig') as f:\n",
    "    data = csv.reader(f)\n",
    "    next(data)\n",
    "\n",
    "    for row in data:\n",
    "        for i in range(4, 8):\n",
    "            row[i] = int(row[i])\n",
    "            if row[i] > max[i-4]:  # 원본데이터의 컬럼 (인덱스 - 4) -> max리스트의 인덱스 \n",
    "                max[i-4] = row[i]\n",
    "                max_station[i-4] = row[3] + ' ' + row[1]  # '역이름 지하철노선' 추가\n",
    "\n",
    "for i in range(4):\n",
    "    print(f'{label[i]} : {max_station[i]} {max[i]:,}명')\n"
   ]
  },
  {
   "cell_type": "code",
   "execution_count": 35,
   "metadata": {},
   "outputs": [
    {
     "name": "stdout",
     "output_type": "stream",
     "text": [
      "['23.Dec', '1호선', '150', '서울역', 1442704, 1404121, 211843, 203808]\n",
      "['23.Dec', '1호선', '151', '시청', 696784, 684254, 99882, 98107]\n",
      "['23.Dec', '1호선', '152', '종각', 1010849, 985165, 162696, 152064]\n",
      "['23.Dec', '1호선', '153', '종로3가', 488467, 450427, 310689, 286850]\n",
      "['23.Dec', '1호선', '154', '종로5가', 483866, 476917, 246504, 239266]\n",
      "['23.Dec', '1호선', '155', '동대문', 236114, 228110, 128542, 127639]\n",
      "['23.Dec', '1호선', '156', '신설동', 289402, 276992, 120282, 116775]\n",
      "['23.Dec', '1호선', '157', '제기동', 231358, 219338, 256218, 272510]\n",
      "['23.Dec', '1호선', '158', '청량리(서울시립대입구)', 380606, 372443, 274847, 276209]\n",
      "['23.Dec', '1호선', '159', '동묘앞', 144443, 150931, 146515, 148571]\n"
     ]
    }
   ],
   "source": [
    "label = ['유임승차', '유임하차', '무임승차', '무임하차']\n",
    "color_list = ['#ff9999', '#ffc000',\t'#8fd9b6', '#d395d0']\n",
    "pic_count = 0\n",
    "with open(file, encoding = 'utf-8-sig') as f:\n",
    "    data = csv.reader(f)\n",
    "    next(data)\n",
    "\n",
    "    for row in data:\n",
    "        for i in range(4, 8):\n",
    "            row[i] = int(row[i])\n",
    "        print(row)\n",
    "        plt.figure(dpi = 100)  # 저장할 그림파일의 dpi 설정\n",
    "        plt.title(row[3] + ' ' + row[1])\n",
    "        plt.pie(row[4:8], labels = label, colors = color_list, autopct = '%.1f%%', shadow = True)\n",
    "        plt.savefig('img/' + row[3] + ' ' + row[1] + '.png')\n",
    "        plt.close()  # 파일 닫기\n",
    "\n",
    "        pic_count += 1\n",
    "        if pic_count >= 10:\n",
    "            break\n"
   ]
  }
 ],
 "metadata": {
  "kernelspec": {
   "display_name": "TEST",
   "language": "python",
   "name": "python3"
  },
  "language_info": {
   "codemirror_mode": {
    "name": "ipython",
    "version": 3
   },
   "file_extension": ".py",
   "mimetype": "text/x-python",
   "name": "python",
   "nbconvert_exporter": "python",
   "pygments_lexer": "ipython3",
   "version": "3.9.18"
  }
 },
 "nbformat": 4,
 "nbformat_minor": 2
}
